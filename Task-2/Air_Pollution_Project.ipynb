{
 "cells": [
  {
   "cell_type": "markdown",
   "id": "75ca0118",
   "metadata": {},
   "source": [
    "# **Project- Air Pollution Prediction Model**"
   ]
  },
  {
   "cell_type": "code",
   "execution_count": 1,
   "id": "4afa4270",
   "metadata": {},
   "outputs": [],
   "source": [
    "#Importing relevant Libraries\n",
    "import numpy as np\n",
    "import pandas as pd\n",
    "import matplotlib.pyplot as plt\n",
    "import seaborn as sns\n",
    "import warnings\n",
    "warnings.filterwarnings(\"ignore\")"
   ]
  },
  {
   "cell_type": "markdown",
   "id": "5596e77a",
   "metadata": {},
   "source": [
    "# 1. Data Preprocessing"
   ]
  },
  {
   "cell_type": "code",
   "execution_count": 2,
   "id": "8f0a6743",
   "metadata": {},
   "outputs": [],
   "source": [
    "data = pd.read_csv(\"air_pollution_data.csv\")"
   ]
  },
  {
   "cell_type": "code",
   "execution_count": 3,
   "id": "ef0c3780",
   "metadata": {},
   "outputs": [
    {
     "data": {
      "text/html": [
       "<div>\n",
       "<style scoped>\n",
       "    .dataframe tbody tr th:only-of-type {\n",
       "        vertical-align: middle;\n",
       "    }\n",
       "\n",
       "    .dataframe tbody tr th {\n",
       "        vertical-align: top;\n",
       "    }\n",
       "\n",
       "    .dataframe thead th {\n",
       "        text-align: right;\n",
       "    }\n",
       "</style>\n",
       "<table border=\"1\" class=\"dataframe\">\n",
       "  <thead>\n",
       "    <tr style=\"text-align: right;\">\n",
       "      <th></th>\n",
       "      <th>No</th>\n",
       "      <th>year</th>\n",
       "      <th>month</th>\n",
       "      <th>day</th>\n",
       "      <th>hour</th>\n",
       "      <th>pm2.5</th>\n",
       "      <th>DEWP</th>\n",
       "      <th>TEMP</th>\n",
       "      <th>PRES</th>\n",
       "      <th>cbwd</th>\n",
       "      <th>Iws</th>\n",
       "      <th>Is</th>\n",
       "      <th>Ir</th>\n",
       "    </tr>\n",
       "  </thead>\n",
       "  <tbody>\n",
       "    <tr>\n",
       "      <th>0</th>\n",
       "      <td>1</td>\n",
       "      <td>2010</td>\n",
       "      <td>1</td>\n",
       "      <td>1</td>\n",
       "      <td>0</td>\n",
       "      <td>NaN</td>\n",
       "      <td>-21</td>\n",
       "      <td>-11.0</td>\n",
       "      <td>1021.0</td>\n",
       "      <td>NW</td>\n",
       "      <td>1.79</td>\n",
       "      <td>0</td>\n",
       "      <td>0</td>\n",
       "    </tr>\n",
       "    <tr>\n",
       "      <th>1</th>\n",
       "      <td>2</td>\n",
       "      <td>2010</td>\n",
       "      <td>1</td>\n",
       "      <td>1</td>\n",
       "      <td>1</td>\n",
       "      <td>NaN</td>\n",
       "      <td>-21</td>\n",
       "      <td>-12.0</td>\n",
       "      <td>1020.0</td>\n",
       "      <td>NW</td>\n",
       "      <td>4.92</td>\n",
       "      <td>0</td>\n",
       "      <td>0</td>\n",
       "    </tr>\n",
       "    <tr>\n",
       "      <th>2</th>\n",
       "      <td>3</td>\n",
       "      <td>2010</td>\n",
       "      <td>1</td>\n",
       "      <td>1</td>\n",
       "      <td>2</td>\n",
       "      <td>NaN</td>\n",
       "      <td>-21</td>\n",
       "      <td>-11.0</td>\n",
       "      <td>1019.0</td>\n",
       "      <td>NW</td>\n",
       "      <td>6.71</td>\n",
       "      <td>0</td>\n",
       "      <td>0</td>\n",
       "    </tr>\n",
       "    <tr>\n",
       "      <th>3</th>\n",
       "      <td>4</td>\n",
       "      <td>2010</td>\n",
       "      <td>1</td>\n",
       "      <td>1</td>\n",
       "      <td>3</td>\n",
       "      <td>NaN</td>\n",
       "      <td>-21</td>\n",
       "      <td>-14.0</td>\n",
       "      <td>1019.0</td>\n",
       "      <td>NW</td>\n",
       "      <td>9.84</td>\n",
       "      <td>0</td>\n",
       "      <td>0</td>\n",
       "    </tr>\n",
       "    <tr>\n",
       "      <th>4</th>\n",
       "      <td>5</td>\n",
       "      <td>2010</td>\n",
       "      <td>1</td>\n",
       "      <td>1</td>\n",
       "      <td>4</td>\n",
       "      <td>NaN</td>\n",
       "      <td>-20</td>\n",
       "      <td>-12.0</td>\n",
       "      <td>1018.0</td>\n",
       "      <td>NW</td>\n",
       "      <td>12.97</td>\n",
       "      <td>0</td>\n",
       "      <td>0</td>\n",
       "    </tr>\n",
       "    <tr>\n",
       "      <th>...</th>\n",
       "      <td>...</td>\n",
       "      <td>...</td>\n",
       "      <td>...</td>\n",
       "      <td>...</td>\n",
       "      <td>...</td>\n",
       "      <td>...</td>\n",
       "      <td>...</td>\n",
       "      <td>...</td>\n",
       "      <td>...</td>\n",
       "      <td>...</td>\n",
       "      <td>...</td>\n",
       "      <td>...</td>\n",
       "      <td>...</td>\n",
       "    </tr>\n",
       "    <tr>\n",
       "      <th>43819</th>\n",
       "      <td>43820</td>\n",
       "      <td>2014</td>\n",
       "      <td>12</td>\n",
       "      <td>31</td>\n",
       "      <td>19</td>\n",
       "      <td>8.0</td>\n",
       "      <td>-23</td>\n",
       "      <td>-2.0</td>\n",
       "      <td>1034.0</td>\n",
       "      <td>NW</td>\n",
       "      <td>231.97</td>\n",
       "      <td>0</td>\n",
       "      <td>0</td>\n",
       "    </tr>\n",
       "    <tr>\n",
       "      <th>43820</th>\n",
       "      <td>43821</td>\n",
       "      <td>2014</td>\n",
       "      <td>12</td>\n",
       "      <td>31</td>\n",
       "      <td>20</td>\n",
       "      <td>10.0</td>\n",
       "      <td>-22</td>\n",
       "      <td>-3.0</td>\n",
       "      <td>1034.0</td>\n",
       "      <td>NW</td>\n",
       "      <td>237.78</td>\n",
       "      <td>0</td>\n",
       "      <td>0</td>\n",
       "    </tr>\n",
       "    <tr>\n",
       "      <th>43821</th>\n",
       "      <td>43822</td>\n",
       "      <td>2014</td>\n",
       "      <td>12</td>\n",
       "      <td>31</td>\n",
       "      <td>21</td>\n",
       "      <td>10.0</td>\n",
       "      <td>-22</td>\n",
       "      <td>-3.0</td>\n",
       "      <td>1034.0</td>\n",
       "      <td>NW</td>\n",
       "      <td>242.70</td>\n",
       "      <td>0</td>\n",
       "      <td>0</td>\n",
       "    </tr>\n",
       "    <tr>\n",
       "      <th>43822</th>\n",
       "      <td>43823</td>\n",
       "      <td>2014</td>\n",
       "      <td>12</td>\n",
       "      <td>31</td>\n",
       "      <td>22</td>\n",
       "      <td>8.0</td>\n",
       "      <td>-22</td>\n",
       "      <td>-4.0</td>\n",
       "      <td>1034.0</td>\n",
       "      <td>NW</td>\n",
       "      <td>246.72</td>\n",
       "      <td>0</td>\n",
       "      <td>0</td>\n",
       "    </tr>\n",
       "    <tr>\n",
       "      <th>43823</th>\n",
       "      <td>43824</td>\n",
       "      <td>2014</td>\n",
       "      <td>12</td>\n",
       "      <td>31</td>\n",
       "      <td>23</td>\n",
       "      <td>12.0</td>\n",
       "      <td>-21</td>\n",
       "      <td>-3.0</td>\n",
       "      <td>1034.0</td>\n",
       "      <td>NW</td>\n",
       "      <td>249.85</td>\n",
       "      <td>0</td>\n",
       "      <td>0</td>\n",
       "    </tr>\n",
       "  </tbody>\n",
       "</table>\n",
       "<p>43824 rows × 13 columns</p>\n",
       "</div>"
      ],
      "text/plain": [
       "          No  year  month  day  hour  pm2.5  DEWP  TEMP    PRES cbwd     Iws  \\\n",
       "0          1  2010      1    1     0    NaN   -21 -11.0  1021.0   NW    1.79   \n",
       "1          2  2010      1    1     1    NaN   -21 -12.0  1020.0   NW    4.92   \n",
       "2          3  2010      1    1     2    NaN   -21 -11.0  1019.0   NW    6.71   \n",
       "3          4  2010      1    1     3    NaN   -21 -14.0  1019.0   NW    9.84   \n",
       "4          5  2010      1    1     4    NaN   -20 -12.0  1018.0   NW   12.97   \n",
       "...      ...   ...    ...  ...   ...    ...   ...   ...     ...  ...     ...   \n",
       "43819  43820  2014     12   31    19    8.0   -23  -2.0  1034.0   NW  231.97   \n",
       "43820  43821  2014     12   31    20   10.0   -22  -3.0  1034.0   NW  237.78   \n",
       "43821  43822  2014     12   31    21   10.0   -22  -3.0  1034.0   NW  242.70   \n",
       "43822  43823  2014     12   31    22    8.0   -22  -4.0  1034.0   NW  246.72   \n",
       "43823  43824  2014     12   31    23   12.0   -21  -3.0  1034.0   NW  249.85   \n",
       "\n",
       "       Is  Ir  \n",
       "0       0   0  \n",
       "1       0   0  \n",
       "2       0   0  \n",
       "3       0   0  \n",
       "4       0   0  \n",
       "...    ..  ..  \n",
       "43819   0   0  \n",
       "43820   0   0  \n",
       "43821   0   0  \n",
       "43822   0   0  \n",
       "43823   0   0  \n",
       "\n",
       "[43824 rows x 13 columns]"
      ]
     },
     "execution_count": 3,
     "metadata": {},
     "output_type": "execute_result"
    }
   ],
   "source": [
    "data"
   ]
  },
  {
   "cell_type": "code",
   "execution_count": 4,
   "id": "43998dc0",
   "metadata": {},
   "outputs": [
    {
     "data": {
      "text/plain": [
       "(43824, 13)"
      ]
     },
     "execution_count": 4,
     "metadata": {},
     "output_type": "execute_result"
    }
   ],
   "source": [
    "data.shape"
   ]
  },
  {
   "cell_type": "code",
   "execution_count": 5,
   "id": "6f67dd62",
   "metadata": {},
   "outputs": [
    {
     "name": "stdout",
     "output_type": "stream",
     "text": [
      "<class 'pandas.core.frame.DataFrame'>\n",
      "RangeIndex: 43824 entries, 0 to 43823\n",
      "Data columns (total 13 columns):\n",
      " #   Column  Non-Null Count  Dtype  \n",
      "---  ------  --------------  -----  \n",
      " 0   No      43824 non-null  int64  \n",
      " 1   year    43824 non-null  int64  \n",
      " 2   month   43824 non-null  int64  \n",
      " 3   day     43824 non-null  int64  \n",
      " 4   hour    43824 non-null  int64  \n",
      " 5   pm2.5   41757 non-null  float64\n",
      " 6   DEWP    43824 non-null  int64  \n",
      " 7   TEMP    43824 non-null  float64\n",
      " 8   PRES    43824 non-null  float64\n",
      " 9   cbwd    43824 non-null  object \n",
      " 10  Iws     43824 non-null  float64\n",
      " 11  Is      43824 non-null  int64  \n",
      " 12  Ir      43824 non-null  int64  \n",
      "dtypes: float64(4), int64(8), object(1)\n",
      "memory usage: 4.3+ MB\n"
     ]
    }
   ],
   "source": [
    "data.info() #checking for missing values"
   ]
  },
  {
   "cell_type": "code",
   "execution_count": 6,
   "id": "bc50dbbc",
   "metadata": {},
   "outputs": [
    {
     "data": {
      "text/plain": [
       "No          0\n",
       "year        0\n",
       "month       0\n",
       "day         0\n",
       "hour        0\n",
       "pm2.5    2067\n",
       "DEWP        0\n",
       "TEMP        0\n",
       "PRES        0\n",
       "cbwd        0\n",
       "Iws         0\n",
       "Is          0\n",
       "Ir          0\n",
       "dtype: int64"
      ]
     },
     "execution_count": 6,
     "metadata": {},
     "output_type": "execute_result"
    }
   ],
   "source": [
    "data.isnull().sum()"
   ]
  },
  {
   "cell_type": "code",
   "execution_count": 7,
   "id": "7bad36e2",
   "metadata": {},
   "outputs": [],
   "source": [
    "data['pm2.5'].fillna(data['pm2.5'].mean(),inplace=True)"
   ]
  },
  {
   "cell_type": "code",
   "execution_count": 8,
   "id": "310d6e8f",
   "metadata": {},
   "outputs": [
    {
     "data": {
      "text/html": [
       "<div>\n",
       "<style scoped>\n",
       "    .dataframe tbody tr th:only-of-type {\n",
       "        vertical-align: middle;\n",
       "    }\n",
       "\n",
       "    .dataframe tbody tr th {\n",
       "        vertical-align: top;\n",
       "    }\n",
       "\n",
       "    .dataframe thead th {\n",
       "        text-align: right;\n",
       "    }\n",
       "</style>\n",
       "<table border=\"1\" class=\"dataframe\">\n",
       "  <thead>\n",
       "    <tr style=\"text-align: right;\">\n",
       "      <th></th>\n",
       "      <th>No</th>\n",
       "      <th>year</th>\n",
       "      <th>month</th>\n",
       "      <th>day</th>\n",
       "      <th>hour</th>\n",
       "      <th>pm2.5</th>\n",
       "      <th>DEWP</th>\n",
       "      <th>TEMP</th>\n",
       "      <th>PRES</th>\n",
       "      <th>cbwd</th>\n",
       "      <th>Iws</th>\n",
       "      <th>Is</th>\n",
       "      <th>Ir</th>\n",
       "    </tr>\n",
       "  </thead>\n",
       "  <tbody>\n",
       "    <tr>\n",
       "      <th>0</th>\n",
       "      <td>1</td>\n",
       "      <td>2010</td>\n",
       "      <td>1</td>\n",
       "      <td>1</td>\n",
       "      <td>0</td>\n",
       "      <td>98.613215</td>\n",
       "      <td>-21</td>\n",
       "      <td>-11.0</td>\n",
       "      <td>1021.0</td>\n",
       "      <td>NW</td>\n",
       "      <td>1.79</td>\n",
       "      <td>0</td>\n",
       "      <td>0</td>\n",
       "    </tr>\n",
       "    <tr>\n",
       "      <th>1</th>\n",
       "      <td>2</td>\n",
       "      <td>2010</td>\n",
       "      <td>1</td>\n",
       "      <td>1</td>\n",
       "      <td>1</td>\n",
       "      <td>98.613215</td>\n",
       "      <td>-21</td>\n",
       "      <td>-12.0</td>\n",
       "      <td>1020.0</td>\n",
       "      <td>NW</td>\n",
       "      <td>4.92</td>\n",
       "      <td>0</td>\n",
       "      <td>0</td>\n",
       "    </tr>\n",
       "    <tr>\n",
       "      <th>2</th>\n",
       "      <td>3</td>\n",
       "      <td>2010</td>\n",
       "      <td>1</td>\n",
       "      <td>1</td>\n",
       "      <td>2</td>\n",
       "      <td>98.613215</td>\n",
       "      <td>-21</td>\n",
       "      <td>-11.0</td>\n",
       "      <td>1019.0</td>\n",
       "      <td>NW</td>\n",
       "      <td>6.71</td>\n",
       "      <td>0</td>\n",
       "      <td>0</td>\n",
       "    </tr>\n",
       "    <tr>\n",
       "      <th>3</th>\n",
       "      <td>4</td>\n",
       "      <td>2010</td>\n",
       "      <td>1</td>\n",
       "      <td>1</td>\n",
       "      <td>3</td>\n",
       "      <td>98.613215</td>\n",
       "      <td>-21</td>\n",
       "      <td>-14.0</td>\n",
       "      <td>1019.0</td>\n",
       "      <td>NW</td>\n",
       "      <td>9.84</td>\n",
       "      <td>0</td>\n",
       "      <td>0</td>\n",
       "    </tr>\n",
       "    <tr>\n",
       "      <th>4</th>\n",
       "      <td>5</td>\n",
       "      <td>2010</td>\n",
       "      <td>1</td>\n",
       "      <td>1</td>\n",
       "      <td>4</td>\n",
       "      <td>98.613215</td>\n",
       "      <td>-20</td>\n",
       "      <td>-12.0</td>\n",
       "      <td>1018.0</td>\n",
       "      <td>NW</td>\n",
       "      <td>12.97</td>\n",
       "      <td>0</td>\n",
       "      <td>0</td>\n",
       "    </tr>\n",
       "    <tr>\n",
       "      <th>...</th>\n",
       "      <td>...</td>\n",
       "      <td>...</td>\n",
       "      <td>...</td>\n",
       "      <td>...</td>\n",
       "      <td>...</td>\n",
       "      <td>...</td>\n",
       "      <td>...</td>\n",
       "      <td>...</td>\n",
       "      <td>...</td>\n",
       "      <td>...</td>\n",
       "      <td>...</td>\n",
       "      <td>...</td>\n",
       "      <td>...</td>\n",
       "    </tr>\n",
       "    <tr>\n",
       "      <th>43819</th>\n",
       "      <td>43820</td>\n",
       "      <td>2014</td>\n",
       "      <td>12</td>\n",
       "      <td>31</td>\n",
       "      <td>19</td>\n",
       "      <td>8.000000</td>\n",
       "      <td>-23</td>\n",
       "      <td>-2.0</td>\n",
       "      <td>1034.0</td>\n",
       "      <td>NW</td>\n",
       "      <td>231.97</td>\n",
       "      <td>0</td>\n",
       "      <td>0</td>\n",
       "    </tr>\n",
       "    <tr>\n",
       "      <th>43820</th>\n",
       "      <td>43821</td>\n",
       "      <td>2014</td>\n",
       "      <td>12</td>\n",
       "      <td>31</td>\n",
       "      <td>20</td>\n",
       "      <td>10.000000</td>\n",
       "      <td>-22</td>\n",
       "      <td>-3.0</td>\n",
       "      <td>1034.0</td>\n",
       "      <td>NW</td>\n",
       "      <td>237.78</td>\n",
       "      <td>0</td>\n",
       "      <td>0</td>\n",
       "    </tr>\n",
       "    <tr>\n",
       "      <th>43821</th>\n",
       "      <td>43822</td>\n",
       "      <td>2014</td>\n",
       "      <td>12</td>\n",
       "      <td>31</td>\n",
       "      <td>21</td>\n",
       "      <td>10.000000</td>\n",
       "      <td>-22</td>\n",
       "      <td>-3.0</td>\n",
       "      <td>1034.0</td>\n",
       "      <td>NW</td>\n",
       "      <td>242.70</td>\n",
       "      <td>0</td>\n",
       "      <td>0</td>\n",
       "    </tr>\n",
       "    <tr>\n",
       "      <th>43822</th>\n",
       "      <td>43823</td>\n",
       "      <td>2014</td>\n",
       "      <td>12</td>\n",
       "      <td>31</td>\n",
       "      <td>22</td>\n",
       "      <td>8.000000</td>\n",
       "      <td>-22</td>\n",
       "      <td>-4.0</td>\n",
       "      <td>1034.0</td>\n",
       "      <td>NW</td>\n",
       "      <td>246.72</td>\n",
       "      <td>0</td>\n",
       "      <td>0</td>\n",
       "    </tr>\n",
       "    <tr>\n",
       "      <th>43823</th>\n",
       "      <td>43824</td>\n",
       "      <td>2014</td>\n",
       "      <td>12</td>\n",
       "      <td>31</td>\n",
       "      <td>23</td>\n",
       "      <td>12.000000</td>\n",
       "      <td>-21</td>\n",
       "      <td>-3.0</td>\n",
       "      <td>1034.0</td>\n",
       "      <td>NW</td>\n",
       "      <td>249.85</td>\n",
       "      <td>0</td>\n",
       "      <td>0</td>\n",
       "    </tr>\n",
       "  </tbody>\n",
       "</table>\n",
       "<p>43824 rows × 13 columns</p>\n",
       "</div>"
      ],
      "text/plain": [
       "          No  year  month  day  hour      pm2.5  DEWP  TEMP    PRES cbwd  \\\n",
       "0          1  2010      1    1     0  98.613215   -21 -11.0  1021.0   NW   \n",
       "1          2  2010      1    1     1  98.613215   -21 -12.0  1020.0   NW   \n",
       "2          3  2010      1    1     2  98.613215   -21 -11.0  1019.0   NW   \n",
       "3          4  2010      1    1     3  98.613215   -21 -14.0  1019.0   NW   \n",
       "4          5  2010      1    1     4  98.613215   -20 -12.0  1018.0   NW   \n",
       "...      ...   ...    ...  ...   ...        ...   ...   ...     ...  ...   \n",
       "43819  43820  2014     12   31    19   8.000000   -23  -2.0  1034.0   NW   \n",
       "43820  43821  2014     12   31    20  10.000000   -22  -3.0  1034.0   NW   \n",
       "43821  43822  2014     12   31    21  10.000000   -22  -3.0  1034.0   NW   \n",
       "43822  43823  2014     12   31    22   8.000000   -22  -4.0  1034.0   NW   \n",
       "43823  43824  2014     12   31    23  12.000000   -21  -3.0  1034.0   NW   \n",
       "\n",
       "          Iws  Is  Ir  \n",
       "0        1.79   0   0  \n",
       "1        4.92   0   0  \n",
       "2        6.71   0   0  \n",
       "3        9.84   0   0  \n",
       "4       12.97   0   0  \n",
       "...       ...  ..  ..  \n",
       "43819  231.97   0   0  \n",
       "43820  237.78   0   0  \n",
       "43821  242.70   0   0  \n",
       "43822  246.72   0   0  \n",
       "43823  249.85   0   0  \n",
       "\n",
       "[43824 rows x 13 columns]"
      ]
     },
     "execution_count": 8,
     "metadata": {},
     "output_type": "execute_result"
    }
   ],
   "source": [
    "data"
   ]
  },
  {
   "cell_type": "code",
   "execution_count": 9,
   "id": "98494ed9",
   "metadata": {},
   "outputs": [
    {
     "data": {
      "text/html": [
       "<div>\n",
       "<style scoped>\n",
       "    .dataframe tbody tr th:only-of-type {\n",
       "        vertical-align: middle;\n",
       "    }\n",
       "\n",
       "    .dataframe tbody tr th {\n",
       "        vertical-align: top;\n",
       "    }\n",
       "\n",
       "    .dataframe thead th {\n",
       "        text-align: right;\n",
       "    }\n",
       "</style>\n",
       "<table border=\"1\" class=\"dataframe\">\n",
       "  <thead>\n",
       "    <tr style=\"text-align: right;\">\n",
       "      <th></th>\n",
       "      <th>No</th>\n",
       "      <th>year</th>\n",
       "      <th>month</th>\n",
       "      <th>day</th>\n",
       "      <th>hour</th>\n",
       "      <th>pm2.5</th>\n",
       "      <th>DEWP</th>\n",
       "      <th>TEMP</th>\n",
       "      <th>PRES</th>\n",
       "      <th>cbwd</th>\n",
       "      <th>Iws</th>\n",
       "      <th>Is</th>\n",
       "      <th>Ir</th>\n",
       "    </tr>\n",
       "  </thead>\n",
       "  <tbody>\n",
       "    <tr>\n",
       "      <th>0</th>\n",
       "      <td>1</td>\n",
       "      <td>2010</td>\n",
       "      <td>1</td>\n",
       "      <td>1</td>\n",
       "      <td>0</td>\n",
       "      <td>98.613215</td>\n",
       "      <td>-21</td>\n",
       "      <td>-11.0</td>\n",
       "      <td>1021.0</td>\n",
       "      <td>NW</td>\n",
       "      <td>1.79</td>\n",
       "      <td>0</td>\n",
       "      <td>0</td>\n",
       "    </tr>\n",
       "    <tr>\n",
       "      <th>1</th>\n",
       "      <td>2</td>\n",
       "      <td>2010</td>\n",
       "      <td>1</td>\n",
       "      <td>1</td>\n",
       "      <td>1</td>\n",
       "      <td>98.613215</td>\n",
       "      <td>-21</td>\n",
       "      <td>-12.0</td>\n",
       "      <td>1020.0</td>\n",
       "      <td>NW</td>\n",
       "      <td>4.92</td>\n",
       "      <td>0</td>\n",
       "      <td>0</td>\n",
       "    </tr>\n",
       "    <tr>\n",
       "      <th>2</th>\n",
       "      <td>3</td>\n",
       "      <td>2010</td>\n",
       "      <td>1</td>\n",
       "      <td>1</td>\n",
       "      <td>2</td>\n",
       "      <td>98.613215</td>\n",
       "      <td>-21</td>\n",
       "      <td>-11.0</td>\n",
       "      <td>1019.0</td>\n",
       "      <td>NW</td>\n",
       "      <td>6.71</td>\n",
       "      <td>0</td>\n",
       "      <td>0</td>\n",
       "    </tr>\n",
       "    <tr>\n",
       "      <th>3</th>\n",
       "      <td>4</td>\n",
       "      <td>2010</td>\n",
       "      <td>1</td>\n",
       "      <td>1</td>\n",
       "      <td>3</td>\n",
       "      <td>98.613215</td>\n",
       "      <td>-21</td>\n",
       "      <td>-14.0</td>\n",
       "      <td>1019.0</td>\n",
       "      <td>NW</td>\n",
       "      <td>9.84</td>\n",
       "      <td>0</td>\n",
       "      <td>0</td>\n",
       "    </tr>\n",
       "    <tr>\n",
       "      <th>4</th>\n",
       "      <td>5</td>\n",
       "      <td>2010</td>\n",
       "      <td>1</td>\n",
       "      <td>1</td>\n",
       "      <td>4</td>\n",
       "      <td>98.613215</td>\n",
       "      <td>-20</td>\n",
       "      <td>-12.0</td>\n",
       "      <td>1018.0</td>\n",
       "      <td>NW</td>\n",
       "      <td>12.97</td>\n",
       "      <td>0</td>\n",
       "      <td>0</td>\n",
       "    </tr>\n",
       "  </tbody>\n",
       "</table>\n",
       "</div>"
      ],
      "text/plain": [
       "   No  year  month  day  hour      pm2.5  DEWP  TEMP    PRES cbwd    Iws  Is  \\\n",
       "0   1  2010      1    1     0  98.613215   -21 -11.0  1021.0   NW   1.79   0   \n",
       "1   2  2010      1    1     1  98.613215   -21 -12.0  1020.0   NW   4.92   0   \n",
       "2   3  2010      1    1     2  98.613215   -21 -11.0  1019.0   NW   6.71   0   \n",
       "3   4  2010      1    1     3  98.613215   -21 -14.0  1019.0   NW   9.84   0   \n",
       "4   5  2010      1    1     4  98.613215   -20 -12.0  1018.0   NW  12.97   0   \n",
       "\n",
       "   Ir  \n",
       "0   0  \n",
       "1   0  \n",
       "2   0  \n",
       "3   0  \n",
       "4   0  "
      ]
     },
     "execution_count": 9,
     "metadata": {},
     "output_type": "execute_result"
    }
   ],
   "source": [
    "data.head()"
   ]
  },
  {
   "cell_type": "code",
   "execution_count": 10,
   "id": "f5d093c3",
   "metadata": {},
   "outputs": [
    {
     "data": {
      "text/html": [
       "<div>\n",
       "<style scoped>\n",
       "    .dataframe tbody tr th:only-of-type {\n",
       "        vertical-align: middle;\n",
       "    }\n",
       "\n",
       "    .dataframe tbody tr th {\n",
       "        vertical-align: top;\n",
       "    }\n",
       "\n",
       "    .dataframe thead th {\n",
       "        text-align: right;\n",
       "    }\n",
       "</style>\n",
       "<table border=\"1\" class=\"dataframe\">\n",
       "  <thead>\n",
       "    <tr style=\"text-align: right;\">\n",
       "      <th></th>\n",
       "      <th>No</th>\n",
       "      <th>year</th>\n",
       "      <th>month</th>\n",
       "      <th>day</th>\n",
       "      <th>hour</th>\n",
       "      <th>pm2.5</th>\n",
       "      <th>DEWP</th>\n",
       "      <th>TEMP</th>\n",
       "      <th>PRES</th>\n",
       "      <th>cbwd</th>\n",
       "      <th>Iws</th>\n",
       "      <th>Is</th>\n",
       "      <th>Ir</th>\n",
       "    </tr>\n",
       "  </thead>\n",
       "  <tbody>\n",
       "    <tr>\n",
       "      <th>43819</th>\n",
       "      <td>43820</td>\n",
       "      <td>2014</td>\n",
       "      <td>12</td>\n",
       "      <td>31</td>\n",
       "      <td>19</td>\n",
       "      <td>8.0</td>\n",
       "      <td>-23</td>\n",
       "      <td>-2.0</td>\n",
       "      <td>1034.0</td>\n",
       "      <td>NW</td>\n",
       "      <td>231.97</td>\n",
       "      <td>0</td>\n",
       "      <td>0</td>\n",
       "    </tr>\n",
       "    <tr>\n",
       "      <th>43820</th>\n",
       "      <td>43821</td>\n",
       "      <td>2014</td>\n",
       "      <td>12</td>\n",
       "      <td>31</td>\n",
       "      <td>20</td>\n",
       "      <td>10.0</td>\n",
       "      <td>-22</td>\n",
       "      <td>-3.0</td>\n",
       "      <td>1034.0</td>\n",
       "      <td>NW</td>\n",
       "      <td>237.78</td>\n",
       "      <td>0</td>\n",
       "      <td>0</td>\n",
       "    </tr>\n",
       "    <tr>\n",
       "      <th>43821</th>\n",
       "      <td>43822</td>\n",
       "      <td>2014</td>\n",
       "      <td>12</td>\n",
       "      <td>31</td>\n",
       "      <td>21</td>\n",
       "      <td>10.0</td>\n",
       "      <td>-22</td>\n",
       "      <td>-3.0</td>\n",
       "      <td>1034.0</td>\n",
       "      <td>NW</td>\n",
       "      <td>242.70</td>\n",
       "      <td>0</td>\n",
       "      <td>0</td>\n",
       "    </tr>\n",
       "    <tr>\n",
       "      <th>43822</th>\n",
       "      <td>43823</td>\n",
       "      <td>2014</td>\n",
       "      <td>12</td>\n",
       "      <td>31</td>\n",
       "      <td>22</td>\n",
       "      <td>8.0</td>\n",
       "      <td>-22</td>\n",
       "      <td>-4.0</td>\n",
       "      <td>1034.0</td>\n",
       "      <td>NW</td>\n",
       "      <td>246.72</td>\n",
       "      <td>0</td>\n",
       "      <td>0</td>\n",
       "    </tr>\n",
       "    <tr>\n",
       "      <th>43823</th>\n",
       "      <td>43824</td>\n",
       "      <td>2014</td>\n",
       "      <td>12</td>\n",
       "      <td>31</td>\n",
       "      <td>23</td>\n",
       "      <td>12.0</td>\n",
       "      <td>-21</td>\n",
       "      <td>-3.0</td>\n",
       "      <td>1034.0</td>\n",
       "      <td>NW</td>\n",
       "      <td>249.85</td>\n",
       "      <td>0</td>\n",
       "      <td>0</td>\n",
       "    </tr>\n",
       "  </tbody>\n",
       "</table>\n",
       "</div>"
      ],
      "text/plain": [
       "          No  year  month  day  hour  pm2.5  DEWP  TEMP    PRES cbwd     Iws  \\\n",
       "43819  43820  2014     12   31    19    8.0   -23  -2.0  1034.0   NW  231.97   \n",
       "43820  43821  2014     12   31    20   10.0   -22  -3.0  1034.0   NW  237.78   \n",
       "43821  43822  2014     12   31    21   10.0   -22  -3.0  1034.0   NW  242.70   \n",
       "43822  43823  2014     12   31    22    8.0   -22  -4.0  1034.0   NW  246.72   \n",
       "43823  43824  2014     12   31    23   12.0   -21  -3.0  1034.0   NW  249.85   \n",
       "\n",
       "       Is  Ir  \n",
       "43819   0   0  \n",
       "43820   0   0  \n",
       "43821   0   0  \n",
       "43822   0   0  \n",
       "43823   0   0  "
      ]
     },
     "execution_count": 10,
     "metadata": {},
     "output_type": "execute_result"
    }
   ],
   "source": [
    "data.tail()"
   ]
  },
  {
   "cell_type": "code",
   "execution_count": 11,
   "id": "a9f7cd2c",
   "metadata": {},
   "outputs": [
    {
     "data": {
      "text/plain": [
       "Index(['No', 'year', 'month', 'day', 'hour', 'pm2.5', 'DEWP', 'TEMP', 'PRES',\n",
       "       'cbwd', 'Iws', 'Is', 'Ir'],\n",
       "      dtype='object')"
      ]
     },
     "execution_count": 11,
     "metadata": {},
     "output_type": "execute_result"
    }
   ],
   "source": [
    "data.keys()"
   ]
  },
  {
   "cell_type": "code",
   "execution_count": 12,
   "id": "8f61dc9a",
   "metadata": {},
   "outputs": [
    {
     "data": {
      "text/plain": [
       "array(['NW', 'cv', 'NE', 'SE'], dtype=object)"
      ]
     },
     "execution_count": 12,
     "metadata": {},
     "output_type": "execute_result"
    }
   ],
   "source": [
    "data['cbwd'].unique()"
   ]
  },
  {
   "cell_type": "code",
   "execution_count": 13,
   "id": "852743ec",
   "metadata": {},
   "outputs": [],
   "source": [
    "from sklearn.preprocessing import LabelEncoder\n",
    "labelencoder=LabelEncoder()"
   ]
  },
  {
   "cell_type": "code",
   "execution_count": 14,
   "id": "57878303",
   "metadata": {},
   "outputs": [],
   "source": [
    "data['cbwd']=labelencoder.fit_transform(data['cbwd'])"
   ]
  },
  {
   "cell_type": "code",
   "execution_count": 15,
   "id": "ee905cf0",
   "metadata": {},
   "outputs": [
    {
     "name": "stdout",
     "output_type": "stream",
     "text": [
      "<class 'pandas.core.frame.DataFrame'>\n",
      "RangeIndex: 43824 entries, 0 to 43823\n",
      "Data columns (total 13 columns):\n",
      " #   Column  Non-Null Count  Dtype  \n",
      "---  ------  --------------  -----  \n",
      " 0   No      43824 non-null  int64  \n",
      " 1   year    43824 non-null  int64  \n",
      " 2   month   43824 non-null  int64  \n",
      " 3   day     43824 non-null  int64  \n",
      " 4   hour    43824 non-null  int64  \n",
      " 5   pm2.5   43824 non-null  float64\n",
      " 6   DEWP    43824 non-null  int64  \n",
      " 7   TEMP    43824 non-null  float64\n",
      " 8   PRES    43824 non-null  float64\n",
      " 9   cbwd    43824 non-null  int32  \n",
      " 10  Iws     43824 non-null  float64\n",
      " 11  Is      43824 non-null  int64  \n",
      " 12  Ir      43824 non-null  int64  \n",
      "dtypes: float64(4), int32(1), int64(8)\n",
      "memory usage: 4.2 MB\n"
     ]
    }
   ],
   "source": [
    "data.info()"
   ]
  },
  {
   "cell_type": "code",
   "execution_count": 16,
   "id": "73be9926",
   "metadata": {},
   "outputs": [],
   "source": [
    "from sklearn.preprocessing import MinMaxScaler\n",
    "scaler = MinMaxScaler()\n",
    "data['pm2.5'] = scaler.fit_transform(data[['pm2.5']])\n",
    "data['Iws'] = scaler.fit_transform(data[['Iws']])"
   ]
  },
  {
   "cell_type": "markdown",
   "id": "7274217a",
   "metadata": {},
   "source": [
    "# 2. EDA"
   ]
  },
  {
   "cell_type": "code",
   "execution_count": 17,
   "id": "d0be1baa",
   "metadata": {},
   "outputs": [
    {
     "data": {
      "text/html": [
       "<div>\n",
       "<style scoped>\n",
       "    .dataframe tbody tr th:only-of-type {\n",
       "        vertical-align: middle;\n",
       "    }\n",
       "\n",
       "    .dataframe tbody tr th {\n",
       "        vertical-align: top;\n",
       "    }\n",
       "\n",
       "    .dataframe thead th {\n",
       "        text-align: right;\n",
       "    }\n",
       "</style>\n",
       "<table border=\"1\" class=\"dataframe\">\n",
       "  <thead>\n",
       "    <tr style=\"text-align: right;\">\n",
       "      <th></th>\n",
       "      <th>No</th>\n",
       "      <th>year</th>\n",
       "      <th>month</th>\n",
       "      <th>day</th>\n",
       "      <th>hour</th>\n",
       "      <th>pm2.5</th>\n",
       "      <th>DEWP</th>\n",
       "      <th>TEMP</th>\n",
       "      <th>PRES</th>\n",
       "      <th>cbwd</th>\n",
       "      <th>Iws</th>\n",
       "      <th>Is</th>\n",
       "      <th>Ir</th>\n",
       "    </tr>\n",
       "  </thead>\n",
       "  <tbody>\n",
       "    <tr>\n",
       "      <th>count</th>\n",
       "      <td>43824.000000</td>\n",
       "      <td>43824.000000</td>\n",
       "      <td>43824.000000</td>\n",
       "      <td>43824.000000</td>\n",
       "      <td>43824.000000</td>\n",
       "      <td>43824.000000</td>\n",
       "      <td>43824.000000</td>\n",
       "      <td>43824.000000</td>\n",
       "      <td>43824.000000</td>\n",
       "      <td>43824.000000</td>\n",
       "      <td>43824.000000</td>\n",
       "      <td>43824.000000</td>\n",
       "      <td>43824.000000</td>\n",
       "    </tr>\n",
       "    <tr>\n",
       "      <th>mean</th>\n",
       "      <td>21912.500000</td>\n",
       "      <td>2012.000000</td>\n",
       "      <td>6.523549</td>\n",
       "      <td>15.727820</td>\n",
       "      <td>11.500000</td>\n",
       "      <td>0.099208</td>\n",
       "      <td>1.817246</td>\n",
       "      <td>12.448521</td>\n",
       "      <td>1016.447654</td>\n",
       "      <td>1.663267</td>\n",
       "      <td>0.040057</td>\n",
       "      <td>0.052734</td>\n",
       "      <td>0.194916</td>\n",
       "    </tr>\n",
       "    <tr>\n",
       "      <th>std</th>\n",
       "      <td>12651.043435</td>\n",
       "      <td>1.413842</td>\n",
       "      <td>3.448572</td>\n",
       "      <td>8.799425</td>\n",
       "      <td>6.922266</td>\n",
       "      <td>0.090396</td>\n",
       "      <td>14.433440</td>\n",
       "      <td>12.198613</td>\n",
       "      <td>10.268698</td>\n",
       "      <td>0.937981</td>\n",
       "      <td>0.085466</td>\n",
       "      <td>0.760375</td>\n",
       "      <td>1.415867</td>\n",
       "    </tr>\n",
       "    <tr>\n",
       "      <th>min</th>\n",
       "      <td>1.000000</td>\n",
       "      <td>2010.000000</td>\n",
       "      <td>1.000000</td>\n",
       "      <td>1.000000</td>\n",
       "      <td>0.000000</td>\n",
       "      <td>0.000000</td>\n",
       "      <td>-40.000000</td>\n",
       "      <td>-19.000000</td>\n",
       "      <td>991.000000</td>\n",
       "      <td>0.000000</td>\n",
       "      <td>0.000000</td>\n",
       "      <td>0.000000</td>\n",
       "      <td>0.000000</td>\n",
       "    </tr>\n",
       "    <tr>\n",
       "      <th>25%</th>\n",
       "      <td>10956.750000</td>\n",
       "      <td>2011.000000</td>\n",
       "      <td>4.000000</td>\n",
       "      <td>8.000000</td>\n",
       "      <td>5.750000</td>\n",
       "      <td>0.031187</td>\n",
       "      <td>-10.000000</td>\n",
       "      <td>2.000000</td>\n",
       "      <td>1008.000000</td>\n",
       "      <td>1.000000</td>\n",
       "      <td>0.002290</td>\n",
       "      <td>0.000000</td>\n",
       "      <td>0.000000</td>\n",
       "    </tr>\n",
       "    <tr>\n",
       "      <th>50%</th>\n",
       "      <td>21912.500000</td>\n",
       "      <td>2012.000000</td>\n",
       "      <td>7.000000</td>\n",
       "      <td>16.000000</td>\n",
       "      <td>11.500000</td>\n",
       "      <td>0.077465</td>\n",
       "      <td>2.000000</td>\n",
       "      <td>14.000000</td>\n",
       "      <td>1016.000000</td>\n",
       "      <td>2.000000</td>\n",
       "      <td>0.008408</td>\n",
       "      <td>0.000000</td>\n",
       "      <td>0.000000</td>\n",
       "    </tr>\n",
       "    <tr>\n",
       "      <th>75%</th>\n",
       "      <td>32868.250000</td>\n",
       "      <td>2013.000000</td>\n",
       "      <td>10.000000</td>\n",
       "      <td>23.000000</td>\n",
       "      <td>17.250000</td>\n",
       "      <td>0.132797</td>\n",
       "      <td>15.000000</td>\n",
       "      <td>23.000000</td>\n",
       "      <td>1025.000000</td>\n",
       "      <td>2.000000</td>\n",
       "      <td>0.036674</td>\n",
       "      <td>0.000000</td>\n",
       "      <td>0.000000</td>\n",
       "    </tr>\n",
       "    <tr>\n",
       "      <th>max</th>\n",
       "      <td>43824.000000</td>\n",
       "      <td>2014.000000</td>\n",
       "      <td>12.000000</td>\n",
       "      <td>31.000000</td>\n",
       "      <td>23.000000</td>\n",
       "      <td>1.000000</td>\n",
       "      <td>28.000000</td>\n",
       "      <td>42.000000</td>\n",
       "      <td>1046.000000</td>\n",
       "      <td>3.000000</td>\n",
       "      <td>1.000000</td>\n",
       "      <td>27.000000</td>\n",
       "      <td>36.000000</td>\n",
       "    </tr>\n",
       "  </tbody>\n",
       "</table>\n",
       "</div>"
      ],
      "text/plain": [
       "                 No          year         month           day          hour  \\\n",
       "count  43824.000000  43824.000000  43824.000000  43824.000000  43824.000000   \n",
       "mean   21912.500000   2012.000000      6.523549     15.727820     11.500000   \n",
       "std    12651.043435      1.413842      3.448572      8.799425      6.922266   \n",
       "min        1.000000   2010.000000      1.000000      1.000000      0.000000   \n",
       "25%    10956.750000   2011.000000      4.000000      8.000000      5.750000   \n",
       "50%    21912.500000   2012.000000      7.000000     16.000000     11.500000   \n",
       "75%    32868.250000   2013.000000     10.000000     23.000000     17.250000   \n",
       "max    43824.000000   2014.000000     12.000000     31.000000     23.000000   \n",
       "\n",
       "              pm2.5          DEWP          TEMP          PRES          cbwd  \\\n",
       "count  43824.000000  43824.000000  43824.000000  43824.000000  43824.000000   \n",
       "mean       0.099208      1.817246     12.448521   1016.447654      1.663267   \n",
       "std        0.090396     14.433440     12.198613     10.268698      0.937981   \n",
       "min        0.000000    -40.000000    -19.000000    991.000000      0.000000   \n",
       "25%        0.031187    -10.000000      2.000000   1008.000000      1.000000   \n",
       "50%        0.077465      2.000000     14.000000   1016.000000      2.000000   \n",
       "75%        0.132797     15.000000     23.000000   1025.000000      2.000000   \n",
       "max        1.000000     28.000000     42.000000   1046.000000      3.000000   \n",
       "\n",
       "                Iws            Is            Ir  \n",
       "count  43824.000000  43824.000000  43824.000000  \n",
       "mean       0.040057      0.052734      0.194916  \n",
       "std        0.085466      0.760375      1.415867  \n",
       "min        0.000000      0.000000      0.000000  \n",
       "25%        0.002290      0.000000      0.000000  \n",
       "50%        0.008408      0.000000      0.000000  \n",
       "75%        0.036674      0.000000      0.000000  \n",
       "max        1.000000     27.000000     36.000000  "
      ]
     },
     "execution_count": 17,
     "metadata": {},
     "output_type": "execute_result"
    }
   ],
   "source": [
    "data.describe()"
   ]
  },
  {
   "cell_type": "code",
   "execution_count": 18,
   "id": "7c39e6d2",
   "metadata": {},
   "outputs": [],
   "source": [
    "data['datetime'] = pd.to_datetime(data[['year', 'month','day', 'hour']])"
   ]
  },
  {
   "cell_type": "markdown",
   "id": "15b1e153",
   "metadata": {},
   "source": [
    "## Visualizations"
   ]
  },
  {
   "cell_type": "code",
   "execution_count": 19,
   "id": "ebdf9e0e",
   "metadata": {},
   "outputs": [],
   "source": [
    "import matplotlib.pyplot as plt\n",
    "import seaborn as sns"
   ]
  },
  {
   "cell_type": "code",
   "execution_count": 20,
   "id": "3e4310d9",
   "metadata": {},
   "outputs": [
    {
     "data": {
      "text/plain": [
       "Text(0.5, 0, 'PM 2.5')"
      ]
     },
     "execution_count": 20,
     "metadata": {},
     "output_type": "execute_result"
    },
    {
     "data": {
      "image/png": "[encoded data removed]",
      "text/plain": [
       "<Figure size 864x576 with 1 Axes>"
      ]
     },
     "metadata": {
      "needs_background": "light"
     },
     "output_type": "display_data"
    }
   ],
   "source": [
    "data['pm2.5'].plot.hist(bins = 200, figsize = (12,8))\n",
    "plt.xlabel('PM 2.5')"
   ]
  },
  {
   "cell_type": "code",
   "execution_count": 21,
   "id": "ac712113",
   "metadata": {},
   "outputs": [
    {
     "data": {
      "text/plain": [
       "<AxesSubplot:xlabel='datetime'>"
      ]
     },
     "execution_count": 21,
     "metadata": {},
     "output_type": "execute_result"
    },
    {
     "data": {
      "image/png": "[encoded data removed]",
      "text/plain": [
       "<Figure size 864x576 with 1 Axes>"
      ]
     },
     "metadata": {
      "needs_background": "light"
     },
     "output_type": "display_data"
    }
   ],
   "source": [
    "data.plot(x = 'datetime', y = 'pm2.5', figsize = (12,8))"
   ]
  },
  {
   "cell_type": "code",
   "execution_count": 22,
   "id": "d25e40f7",
   "metadata": {},
   "outputs": [
    {
     "data": {
      "text/plain": [
       "<AxesSubplot:xlabel='year', ylabel='count'>"
      ]
     },
     "execution_count": 22,
     "metadata": {},
     "output_type": "execute_result"
    },
    {
     "data": {
      "image/png": "[encoded data removed]",
      "text/plain": [
       "<Figure size 432x288 with 1 Axes>"
      ]
     },
     "metadata": {
      "needs_background": "light"
     },
     "output_type": "display_data"
    }
   ],
   "source": [
    "sns.countplot(x=data['year'],data=data)"
   ]
  },
  {
   "cell_type": "code",
   "execution_count": 23,
   "id": "62679c50",
   "metadata": {},
   "outputs": [
    {
     "data": {
      "text/plain": [
       "<matplotlib.collections.PathCollection at 0x1e6a128d3d0>"
      ]
     },
     "execution_count": 23,
     "metadata": {},
     "output_type": "execute_result"
    },
    {
     "data": {
      "image/png": "[encoded data removed]",
      "text/plain": [
       "<Figure size 432x288 with 1 Axes>"
      ]
     },
     "metadata": {
      "needs_background": "light"
     },
     "output_type": "display_data"
    }
   ],
   "source": [
    "plt.scatter(x=data['pm2.5'],y=data['Ir'],marker='+')"
   ]
  },
  {
   "cell_type": "code",
   "execution_count": 24,
   "id": "4f7b1a90",
   "metadata": {},
   "outputs": [
    {
     "data": {
      "text/plain": [
       "<matplotlib.collections.PathCollection at 0x1e6a12f89a0>"
      ]
     },
     "execution_count": 24,
     "metadata": {},
     "output_type": "execute_result"
    },
    {
     "data": {
      "image/png": "[encoded data removed]",
      "text/plain": [
       "<Figure size 864x864 with 1 Axes>"
      ]
     },
     "metadata": {
      "needs_background": "light"
     },
     "output_type": "display_data"
    }
   ],
   "source": [
    "plt.figure(figsize=(12,12))\n",
    "plt.scatter(x=data['TEMP'],y=data['PRES'],marker='s')"
   ]
  },
  {
   "cell_type": "code",
   "execution_count": 25,
   "id": "a891bd6f",
   "metadata": {},
   "outputs": [
    {
     "data": {
      "text/plain": [
       "<AxesSubplot:xlabel='cbwd', ylabel='Count'>"
      ]
     },
     "execution_count": 25,
     "metadata": {},
     "output_type": "execute_result"
    },
    {
     "data": {
      "image/png": "[encoded data removed]",
      "text/plain": [
       "<Figure size 432x288 with 1 Axes>"
      ]
     },
     "metadata": {
      "needs_background": "light"
     },
     "output_type": "display_data"
    }
   ],
   "source": [
    "sns.histplot(data=data['cbwd'])"
   ]
  },
  {
   "cell_type": "code",
   "execution_count": 26,
   "id": "29fccc50",
   "metadata": {},
   "outputs": [
    {
     "data": {
      "text/plain": [
       "<AxesSubplot:xlabel='TEMP', ylabel='DEWP'>"
      ]
     },
     "execution_count": 26,
     "metadata": {},
     "output_type": "execute_result"
    },
    {
     "data": {
      "image/png": "[encoded data removed]",
      "text/plain": [
       "<Figure size 432x288 with 1 Axes>"
      ]
     },
     "metadata": {
      "needs_background": "light"
     },
     "output_type": "display_data"
    }
   ],
   "source": [
    "sns.lineplot(x=data['TEMP'],y=data['DEWP'],data=data)"
   ]
  },
  {
   "cell_type": "code",
   "execution_count": 27,
   "id": "b0542899",
   "metadata": {},
   "outputs": [
    {
     "data": {
      "text/plain": [
       "<AxesSubplot:xlabel='year', ylabel='pm2.5'>"
      ]
     },
     "execution_count": 27,
     "metadata": {},
     "output_type": "execute_result"
    },
    {
     "data": {
      "image/png": "[encoded data removed]",
      "text/plain": [
       "<Figure size 432x288 with 1 Axes>"
      ]
     },
     "metadata": {
      "needs_background": "light"
     },
     "output_type": "display_data"
    }
   ],
   "source": [
    "sns.histplot(x=data['year'],y=data['pm2.5'],data=data)"
   ]
  },
  {
   "cell_type": "code",
   "execution_count": 28,
   "id": "e3e69039",
   "metadata": {},
   "outputs": [
    {
     "data": {
      "text/plain": [
       "<seaborn.axisgrid.FacetGrid at 0x1e6a18edb20>"
      ]
     },
     "execution_count": 28,
     "metadata": {},
     "output_type": "execute_result"
    },
    {
     "data": {
      "image/png": "[encoded data removed]",
      "text/plain": [
       "<Figure size 360x360 with 1 Axes>"
      ]
     },
     "metadata": {
      "needs_background": "light"
     },
     "output_type": "display_data"
    }
   ],
   "source": [
    "sns.relplot(x=data['Iws'],y=data['pm2.5'])"
   ]
  },
  {
   "cell_type": "markdown",
   "id": "1cd9b900",
   "metadata": {},
   "source": [
    "# 3. Model Implementation"
   ]
  },
  {
   "cell_type": "markdown",
   "id": "b9beb6b5",
   "metadata": {},
   "source": [
    "### Importing Libraries for model building"
   ]
  },
  {
   "cell_type": "code",
   "execution_count": 29,
   "id": "649eb6d1",
   "metadata": {},
   "outputs": [],
   "source": [
    "from sklearn.linear_model import Ridge\n",
    "from sklearn.ensemble import RandomForestRegressor\n",
    "from sklearn.model_selection import train_test_split\n",
    "from sklearn import metrics"
   ]
  },
  {
   "cell_type": "code",
   "execution_count": 30,
   "id": "8d4ec999",
   "metadata": {},
   "outputs": [],
   "source": [
    "data = data.iloc[:,[0,1,2,3,4,6,7,8,9,10,11,12,5]]"
   ]
  },
  {
   "cell_type": "code",
   "execution_count": 31,
   "id": "42758804",
   "metadata": {},
   "outputs": [
    {
     "name": "stdout",
     "output_type": "stream",
     "text": [
      "<class 'pandas.core.frame.DataFrame'>\n",
      "RangeIndex: 43824 entries, 0 to 43823\n",
      "Data columns (total 13 columns):\n",
      " #   Column  Non-Null Count  Dtype  \n",
      "---  ------  --------------  -----  \n",
      " 0   No      43824 non-null  int64  \n",
      " 1   year    43824 non-null  int64  \n",
      " 2   month   43824 non-null  int64  \n",
      " 3   day     43824 non-null  int64  \n",
      " 4   hour    43824 non-null  int64  \n",
      " 5   DEWP    43824 non-null  int64  \n",
      " 6   TEMP    43824 non-null  float64\n",
      " 7   PRES    43824 non-null  float64\n",
      " 8   cbwd    43824 non-null  int32  \n",
      " 9   Iws     43824 non-null  float64\n",
      " 10  Is      43824 non-null  int64  \n",
      " 11  Ir      43824 non-null  int64  \n",
      " 12  pm2.5   43824 non-null  float64\n",
      "dtypes: float64(4), int32(1), int64(8)\n",
      "memory usage: 4.2 MB\n"
     ]
    }
   ],
   "source": [
    "data.info()"
   ]
  },
  {
   "cell_type": "code",
   "execution_count": 32,
   "id": "a5eb0b17",
   "metadata": {},
   "outputs": [],
   "source": [
    "x = data.iloc[:,:-1]\n",
    "y = data.iloc[:,-1]"
   ]
  },
  {
   "cell_type": "code",
   "execution_count": 33,
   "id": "8ed7037c",
   "metadata": {},
   "outputs": [
    {
     "name": "stdout",
     "output_type": "stream",
     "text": [
      "(35059, 12)\n",
      "(8765, 12)\n"
     ]
    }
   ],
   "source": [
    "x_train,x_test,y_train,y_test = train_test_split(x,y,test_size=0.2,random_state = 40)\n",
    "print(x_train.shape)\n",
    "print(x_test.shape)"
   ]
  },
  {
   "cell_type": "markdown",
   "id": "41172c43",
   "metadata": {},
   "source": [
    "#### Ridge Regressor"
   ]
  },
  {
   "cell_type": "code",
   "execution_count": 34,
   "id": "83aaebfa",
   "metadata": {},
   "outputs": [],
   "source": [
    "rr = Ridge(alpha=0.1, normalize=True)\n",
    "rr.fit(x_train,y_train)\n",
    "y_train_predict_rr = rr.predict(x_train)\n",
    "y_test_predict_rr = rr.predict(x_test)"
   ]
  },
  {
   "cell_type": "markdown",
   "id": "79be542d",
   "metadata": {},
   "source": [
    "#### Random Forest Regressor"
   ]
  },
  {
   "cell_type": "code",
   "execution_count": 35,
   "id": "b4de8a4e",
   "metadata": {},
   "outputs": [],
   "source": [
    "rfr = RandomForestRegressor(n_estimators=100,\n",
    "                            max_depth=7,\n",
    "                            max_features='auto',\n",
    "                            min_samples_split=7,\n",
    "                            min_samples_leaf=3)\n",
    "rfr.fit(x_train,y_train)\n",
    "y_train_predict_rfr = rfr.predict(x_train)\n",
    "y_test_predict_rfr = rfr.predict(x_test)"
   ]
  },
  {
   "cell_type": "code",
   "execution_count": 36,
   "id": "b87fc4b7",
   "metadata": {},
   "outputs": [
    {
     "name": "stdout",
     "output_type": "stream",
     "text": [
      "0.06402996020673546\n",
      "0.487609337050229\n"
     ]
    }
   ],
   "source": [
    "mse = metrics.mean_squared_error(y_test,y_test_predict_rfr)\n",
    "r2 = metrics.r2_score(y_test,y_test_predict_rfr)\n",
    "\n",
    "print(np.sqrt(mse))\n",
    "print(r2)"
   ]
  },
  {
   "cell_type": "code",
   "execution_count": 37,
   "id": "4ea5c15d",
   "metadata": {},
   "outputs": [
    {
     "name": "stdout",
     "output_type": "stream",
     "text": [
      "Fitting 5 folds for each of 10 candidates, totalling 50 fits\n"
     ]
    },
    {
     "data": {
      "text/plain": [
       "RandomizedSearchCV(cv=5,\n",
       "                   estimator=RandomForestRegressor(max_depth=7,\n",
       "                                                   min_samples_leaf=3,\n",
       "                                                   min_samples_split=7),\n",
       "                   n_jobs=-1,\n",
       "                   param_distributions={'max_depth': [3, 4, 5, 6, 7],\n",
       "                                        'max_features': ['auto', 'sqrt',\n",
       "                                                         'log2'],\n",
       "                                        'min_samples_leaf': [2, 3, 4, 5, 6, 7,\n",
       "                                                             8, 9, 10],\n",
       "                                        'min_samples_split': [2, 3, 4, 5, 6, 7,\n",
       "                                                              8, 9, 10],\n",
       "                                        'n_estimators': [100, 200, 300, 400,\n",
       "                                                         500]},\n",
       "                   verbose=2)"
      ]
     },
     "execution_count": 37,
     "metadata": {},
     "output_type": "execute_result"
    }
   ],
   "source": [
    "from sklearn.model_selection import RandomizedSearchCV\n",
    "params = {'max_depth':[3,4,5,6,7],\n",
    "         'max_features':['auto','sqrt','log2'],\n",
    "         'min_samples_split':[2,3,4,5,6,7,8,9,10],\n",
    "         'min_samples_leaf':[2,3,4,5,6,7,8,9,10],\n",
    "          'n_estimators':[100,200,300,400,500]\n",
    "         }\n",
    "forest = RandomizedSearchCV(rfr, params, n_jobs=-1,cv=5, verbose=2)\n",
    "forest.fit(x_train,y_train)"
   ]
  },
  {
   "cell_type": "code",
   "execution_count": 38,
   "id": "b3ac1b0f",
   "metadata": {},
   "outputs": [
    {
     "name": "stdout",
     "output_type": "stream",
     "text": [
      "0.06769529189575939\n",
      "0.4272677034551783\n"
     ]
    }
   ],
   "source": [
    "y_train_predict_rfr_1 = forest.predict(x_train)\n",
    "y_test_predict_rfr_1 = forest.predict(x_test)\n",
    "\n",
    "\n",
    "mse = metrics.mean_squared_error(y_test,y_test_predict_rfr_1)\n",
    "r2 = metrics.r2_score(y_test,y_test_predict_rfr_1)\n",
    "\n",
    "print(np.sqrt(mse))\n",
    "print(r2)"
   ]
  },
  {
   "cell_type": "markdown",
   "id": "17117347",
   "metadata": {},
   "source": [
    "# 4. Model Evaluation"
   ]
  },
  {
   "cell_type": "markdown",
   "id": "43ce56b8",
   "metadata": {},
   "source": [
    "### • For Ridge Regressor"
   ]
  },
  {
   "cell_type": "code",
   "execution_count": 39,
   "id": "d4e94684",
   "metadata": {},
   "outputs": [
    {
     "name": "stdout",
     "output_type": "stream",
     "text": [
      "Ridge Regressor Model Performance: \n",
      "\n",
      "------------------Training Performance:----------------\n",
      "Mean Absolute Error        : 0.057170028179069445\n",
      "Mean Squared Error         : 0.00636142814750233\n",
      "Root Mean Squared Error    : 0.07975856159373945\n",
      "R2 Score                   : 0.22550093208263233\n",
      "\n",
      "-----------------Testing Performance:-----------------\n",
      "Mean Absolute Error        : 0.05646316231176229\n",
      "Mean Squared Error         : 0.006119798313353914\n",
      "Root Mean Squared Error    : 0.07822913979684241\n",
      "R2 Score                   : 0.2351577807626567\n"
     ]
    }
   ],
   "source": [
    "print(\"Ridge Regressor Model Performance: \\n\")\n",
    "\n",
    "print(\"------------------Training Performance:----------------\")\n",
    "print(\"Mean Absolute Error        :\",metrics.mean_absolute_error(y_train,y_train_predict_rr))\n",
    "print(\"Mean Squared Error         :\",metrics.mean_squared_error(y_train,y_train_predict_rr))\n",
    "print(\"Root Mean Squared Error    :\",np.sqrt(metrics.mean_squared_error(y_train,y_train_predict_rr)))\n",
    "print(\"R2 Score                   :\",metrics.r2_score(y_train,y_train_predict_rr))\n",
    "\n",
    "print(\"\\n-----------------Testing Performance:-----------------\")\n",
    "print(\"Mean Absolute Error        :\",metrics.mean_absolute_error(y_test,y_test_predict_rr))\n",
    "print(\"Mean Squared Error         :\",metrics.mean_squared_error(y_test,y_test_predict_rr))\n",
    "print(\"Root Mean Squared Error    :\",np.sqrt(metrics.mean_squared_error(y_test,y_test_predict_rr)))\n",
    "print(\"R2 Score                   :\",metrics.r2_score(y_test,y_test_predict_rr))"
   ]
  },
  {
   "cell_type": "markdown",
   "id": "5d9f9114",
   "metadata": {},
   "source": [
    "### • For Random Forest Regressor"
   ]
  },
  {
   "cell_type": "code",
   "execution_count": 40,
   "id": "0643b693",
   "metadata": {},
   "outputs": [
    {
     "name": "stdout",
     "output_type": "stream",
     "text": [
      "Random Forest Regressor Model Performance: \n",
      "\n",
      "------------------Training Performance:----------------\n",
      "Mean Absolute Error        : 0.04876909684764339\n",
      "Mean Squared Error         : 0.004604915480446562\n",
      "Root Mean Squared Error    : 0.0678595275583802\n",
      "R2 Score                   : 0.4393550214279438\n",
      "\n",
      "-----------------Testing Performance:-----------------\n",
      "Mean Absolute Error        : 0.04921801868879994\n",
      "Mean Squared Error         : 0.004582652544852067\n",
      "Root Mean Squared Error    : 0.06769529189575939\n",
      "R2 Score                   : 0.4272677034551783\n"
     ]
    }
   ],
   "source": [
    "print(\"Random Forest Regressor Model Performance: \\n\")\n",
    "\n",
    "print(\"------------------Training Performance:----------------\")\n",
    "print(\"Mean Absolute Error        :\",metrics.mean_absolute_error(y_train,y_train_predict_rfr_1))\n",
    "print(\"Mean Squared Error         :\",metrics.mean_squared_error(y_train,y_train_predict_rfr_1))\n",
    "print(\"Root Mean Squared Error    :\",np.sqrt(metrics.mean_squared_error(y_train,y_train_predict_rfr_1)))\n",
    "print(\"R2 Score                   :\",metrics.r2_score(y_train,y_train_predict_rfr_1))\n",
    "\n",
    "print(\"\\n-----------------Testing Performance:-----------------\")\n",
    "print(\"Mean Absolute Error        :\",metrics.mean_absolute_error(y_test,y_test_predict_rfr_1))\n",
    "print(\"Mean Squared Error         :\",metrics.mean_squared_error(y_test,y_test_predict_rfr_1))\n",
    "print(\"Root Mean Squared Error    :\",np.sqrt(metrics.mean_squared_error(y_test,y_test_predict_rfr_1)))\n",
    "print(\"R2 Score                   :\",metrics.r2_score(y_test,y_test_predict_rfr_1))"
   ]
  },
  {
   "cell_type": "code",
   "execution_count": 41,
   "id": "6a05f6ba",
   "metadata": {},
   "outputs": [
    {
     "name": "stdout",
     "output_type": "stream",
     "text": [
      "Accuracy on Training set:\n"
     ]
    },
    {
     "data": {
      "text/html": [
       "<div>\n",
       "<style scoped>\n",
       "    .dataframe tbody tr th:only-of-type {\n",
       "        vertical-align: middle;\n",
       "    }\n",
       "\n",
       "    .dataframe tbody tr th {\n",
       "        vertical-align: top;\n",
       "    }\n",
       "\n",
       "    .dataframe thead th {\n",
       "        text-align: right;\n",
       "    }\n",
       "</style>\n",
       "<table border=\"1\" class=\"dataframe\">\n",
       "  <thead>\n",
       "    <tr style=\"text-align: right;\">\n",
       "      <th></th>\n",
       "      <th>Model</th>\n",
       "      <th>Accuracy</th>\n",
       "    </tr>\n",
       "  </thead>\n",
       "  <tbody>\n",
       "    <tr>\n",
       "      <th>0</th>\n",
       "      <td>Ridge Regressor</td>\n",
       "      <td>22.550093</td>\n",
       "    </tr>\n",
       "    <tr>\n",
       "      <th>1</th>\n",
       "      <td>Random Forest Regressor</td>\n",
       "      <td>43.935502</td>\n",
       "    </tr>\n",
       "  </tbody>\n",
       "</table>\n",
       "</div>"
      ],
      "text/plain": [
       "                     Model   Accuracy\n",
       "0          Ridge Regressor  22.550093\n",
       "1  Random Forest Regressor  43.935502"
      ]
     },
     "execution_count": 41,
     "metadata": {},
     "output_type": "execute_result"
    }
   ],
   "source": [
    "print(\"Accuracy on Training set:\")\n",
    "output_train = pd.DataFrame({'Model':['Ridge Regressor','Random Forest Regressor'], 'Accuracy':[metrics.r2_score(y_train,y_train_predict_rr)*100, metrics.r2_score(y_train,y_train_predict_rfr_1)*100]})\n",
    "output_train"
   ]
  },
  {
   "cell_type": "code",
   "execution_count": 42,
   "id": "fa2d27ec",
   "metadata": {},
   "outputs": [
    {
     "name": "stdout",
     "output_type": "stream",
     "text": [
      "Accuracy on Testing set:\n"
     ]
    },
    {
     "data": {
      "text/html": [
       "<div>\n",
       "<style scoped>\n",
       "    .dataframe tbody tr th:only-of-type {\n",
       "        vertical-align: middle;\n",
       "    }\n",
       "\n",
       "    .dataframe tbody tr th {\n",
       "        vertical-align: top;\n",
       "    }\n",
       "\n",
       "    .dataframe thead th {\n",
       "        text-align: right;\n",
       "    }\n",
       "</style>\n",
       "<table border=\"1\" class=\"dataframe\">\n",
       "  <thead>\n",
       "    <tr style=\"text-align: right;\">\n",
       "      <th></th>\n",
       "      <th>Model</th>\n",
       "      <th>Accuracy</th>\n",
       "    </tr>\n",
       "  </thead>\n",
       "  <tbody>\n",
       "    <tr>\n",
       "      <th>0</th>\n",
       "      <td>Ridge Regressor</td>\n",
       "      <td>23.515778</td>\n",
       "    </tr>\n",
       "    <tr>\n",
       "      <th>1</th>\n",
       "      <td>Random Forest Regressor</td>\n",
       "      <td>42.726770</td>\n",
       "    </tr>\n",
       "  </tbody>\n",
       "</table>\n",
       "</div>"
      ],
      "text/plain": [
       "                     Model   Accuracy\n",
       "0          Ridge Regressor  23.515778\n",
       "1  Random Forest Regressor  42.726770"
      ]
     },
     "execution_count": 42,
     "metadata": {},
     "output_type": "execute_result"
    }
   ],
   "source": [
    "print(\"Accuracy on Testing set:\")\n",
    "output_test = pd.DataFrame({'Model':['Ridge Regressor','Random Forest Regressor'], 'Accuracy':[metrics.r2_score(y_test,y_test_predict_rr)*100, metrics.r2_score(y_test,y_test_predict_rfr_1)*100]})\n",
    "output_test"
   ]
  },
  {
   "cell_type": "markdown",
   "id": "8f997b28",
   "metadata": {},
   "source": [
    "# 5. Cross Validation and Overfitting Check"
   ]
  },
  {
   "cell_type": "markdown",
   "id": "0914fd92",
   "metadata": {},
   "source": [
    "## • Overfitting Check"
   ]
  },
  {
   "cell_type": "markdown",
   "id": "6654eefa",
   "metadata": {},
   "source": [
    "### For Ridge Regressor"
   ]
  },
  {
   "cell_type": "code",
   "execution_count": 43,
   "id": "8355a6e1",
   "metadata": {},
   "outputs": [
    {
     "name": "stdout",
     "output_type": "stream",
     "text": [
      "Ridge Regressor Model is not Overfitted.\n",
      "Training score: 0.22550093208263233\n",
      "Testing score: 0.2351577807626567\n"
     ]
    }
   ],
   "source": [
    "# Check the training and validation scores\n",
    "train_score = rr.score(x_train, y_train)\n",
    "test_score = rr.score(x_test, y_test)\n",
    "if train_score > test_score:\n",
    "    print('Ridge Regressor Model is Overfitted!')\n",
    "    print('Training score:', train_score)\n",
    "    print('Testing score:', test_score)\n",
    "else:\n",
    "    print('Ridge Regressor Model is not Overfitted.')\n",
    "    print('Training score:', train_score)\n",
    "    print('Testing score:', test_score)"
   ]
  },
  {
   "cell_type": "markdown",
   "id": "98c98a72",
   "metadata": {},
   "source": [
    "### For Random Forest Regressor"
   ]
  },
  {
   "cell_type": "code",
   "execution_count": 44,
   "id": "df917953",
   "metadata": {},
   "outputs": [
    {
     "name": "stdout",
     "output_type": "stream",
     "text": [
      "Random Forest Regressor Model is Overfitted!!\n",
      "Training score: 0.508674669501447\n",
      "Testing score: 0.487609337050229\n"
     ]
    }
   ],
   "source": [
    "# Check the training and validation scores\n",
    "train_score = rfr.score(x_train, y_train)\n",
    "test_score = rfr.score(x_test, y_test)\n",
    "if train_score > test_score:\n",
    "    print('Random Forest Regressor Model is Overfitted!!')\n",
    "    print('Training score:', train_score)\n",
    "    print('Testing score:', test_score)\n",
    "else:\n",
    "    print('Random Forest Regressor Model is not Overfitted.')\n",
    "    print('Training score:', train_score)\n",
    "    print('Testing score:', test_score)"
   ]
  },
  {
   "cell_type": "markdown",
   "id": "2098f313",
   "metadata": {},
   "source": [
    "## • 10-fold Cross Validation"
   ]
  },
  {
   "cell_type": "code",
   "execution_count": 45,
   "id": "75077045",
   "metadata": {},
   "outputs": [],
   "source": [
    "from sklearn.model_selection import cross_val_score, KFold\n",
    "cvs = cross_val_score\n",
    "k_folds = KFold(n_splits=10, shuffle=True, random_state=42)"
   ]
  },
  {
   "cell_type": "markdown",
   "id": "35efea80",
   "metadata": {},
   "source": [
    "#### • For Ridge regressor"
   ]
  },
  {
   "cell_type": "code",
   "execution_count": 46,
   "id": "b5582b19",
   "metadata": {},
   "outputs": [
    {
     "data": {
      "text/plain": [
       "array([0.22195775, 0.23183373, 0.22048029, 0.25641299, 0.23362509,\n",
       "       0.24302769, 0.21680738, 0.23644708, 0.24978931, 0.22352156])"
      ]
     },
     "execution_count": 46,
     "metadata": {},
     "output_type": "execute_result"
    }
   ],
   "source": [
    "score_rr = cvs(rr, x_test, y_test, cv=k_folds)\n",
    "score_rr"
   ]
  },
  {
   "cell_type": "code",
   "execution_count": 47,
   "id": "11720b2c",
   "metadata": {},
   "outputs": [
    {
     "name": "stdout",
     "output_type": "stream",
     "text": [
      "Testing MAE Scores for Each Fold:\n",
      "Fold 1: 0.05708721880593349\n",
      "Fold 2: 0.05680948537349632\n",
      "Fold 3: 0.0586683547497965\n",
      "Fold 4: 0.056814129376709356\n",
      "Fold 5: 0.05634611745261146\n",
      "Fold 6: 0.05640012033777014\n",
      "Fold 7: 0.0564722439039335\n",
      "Fold 8: 0.05771826456500751\n",
      "Fold 9: 0.05514302234551695\n",
      "Fold 10: 0.05857174477995582\n",
      "\n",
      "Training MAE Scores for Each Fold:\n",
      "Fold 1: 0.056952955938098244\n",
      "Fold 2: 0.057033784834376225\n",
      "Fold 3: 0.05674310672101199\n",
      "Fold 4: 0.05694481185706586\n",
      "Fold 5: 0.05708803704538902\n",
      "Fold 6: 0.05709334042863952\n",
      "Fold 7: 0.05702564242761217\n",
      "Fold 8: 0.05691150920129354\n",
      "Fold 9: 0.05729188973073684\n",
      "Fold 10: 0.056785573636091144\n",
      "\n",
      "Average MAE Testing Score: 0.05700307016907311\n",
      "\n",
      "Average MAE Training Score: 0.05698706518203145\n"
     ]
    }
   ],
   "source": [
    "from sklearn import metrics\n",
    "\n",
    "k_folds = KFold(n_splits=10, shuffle=True, random_state=42)\n",
    "\n",
    "# Initialize a list to store the cross-validation mae scores\n",
    "test_score = []\n",
    "train_score = []\n",
    "\n",
    "# Perform cross-validation\n",
    "for train_index, test_index in k_folds.split(x):\n",
    "    x_train, x_test = x.iloc[train_index], x.iloc[test_index]\n",
    "    y_train, y_test = y.iloc[train_index], y.iloc[test_index]\n",
    "    \n",
    "    # Fit the model on the training data\n",
    "    rr.fit(x_train, y_train)\n",
    "    \n",
    "    # Make predictions on the train and test data\n",
    "    y_pred_test = rr.predict(x_test)\n",
    "    y_pred_train = rr.predict(x_train)\n",
    "    \n",
    "    # Calculate the accuracy score for this fold\n",
    "    mae_test = metrics.mean_absolute_error(y_pred_test,y_test)\n",
    "    mae_train = metrics.mean_absolute_error(y_pred_train,y_train)\n",
    "    \n",
    "    # Store the mae score\n",
    "    test_score.append(mae_test)\n",
    "    train_score.append(mae_train)\n",
    "\n",
    "# Print the mae scores for each fold\n",
    "print(\"Testing MAE Scores for Each Fold:\")\n",
    "for fold, score in enumerate(test_score):\n",
    "    print(f\"Fold {fold+1}: {score}\")\n",
    "    \n",
    "print(\"\\nTraining MAE Scores for Each Fold:\")\n",
    "for fold, score in enumerate(train_score):\n",
    "    print(f\"Fold {fold+1}: {score}\")\n",
    "\n",
    "# Calculate and print the average mae score\n",
    "average_mae_test = sum(test_score) / len(test_score)\n",
    "print(\"\\nAverage MAE Testing Score:\", average_mae_test)\n",
    "\n",
    "average_mae_train = sum(train_score) / len(train_score)\n",
    "print(\"\\nAverage MAE Training Score:\", average_mae_train)\n"
   ]
  },
  {
   "cell_type": "markdown",
   "id": "9e193f32",
   "metadata": {},
   "source": [
    "#### • For Random Forest Regressor"
   ]
  },
  {
   "cell_type": "code",
   "execution_count": 48,
   "id": "173eb9fc",
   "metadata": {},
   "outputs": [
    {
     "data": {
      "text/plain": [
       "array([0.22478963, 0.34922846, 0.38978428, 0.22502534, 0.24235463,\n",
       "       0.30256843, 0.32702242, 0.21970055, 0.2418782 , 0.4522722 ])"
      ]
     },
     "execution_count": 48,
     "metadata": {},
     "output_type": "execute_result"
    }
   ],
   "source": [
    "score_rfr = cvs(rfr, x_test, y_test, cv=10)\n",
    "score_rfr"
   ]
  },
  {
   "cell_type": "code",
   "execution_count": 49,
   "id": "f84b9520",
   "metadata": {},
   "outputs": [
    {
     "name": "stdout",
     "output_type": "stream",
     "text": [
      "Testing MAE Scores for Each Fold:\n",
      "Fold 1: 0.05708155006014328\n",
      "Fold 2: 0.05673774421371705\n",
      "Fold 3: 0.058684654006823586\n",
      "Fold 4: 0.05680854616005098\n",
      "Fold 5: 0.05628329766886995\n",
      "Fold 6: 0.05633365239638322\n",
      "Fold 7: 0.05645729842637351\n",
      "Fold 8: 0.05767913947832329\n",
      "Fold 9: 0.05500378506085001\n",
      "Fold 10: 0.05857174477995582\n",
      "\n",
      "Training MAE Scores for Each Fold:\n",
      "Fold 1: 0.05695113072860387\n",
      "Fold 2: 0.056989337189517285\n",
      "Fold 3: 0.05677298097078079\n",
      "Fold 4: 0.05698146910983417\n",
      "Fold 5: 0.05703981975040528\n",
      "Fold 6: 0.05703422534809395\n",
      "Fold 7: 0.0570204882935983\n",
      "Fold 8: 0.056884741944791345\n",
      "Fold 9: 0.057181973400026065\n",
      "Fold 10: 0.056785573636091144\n",
      "\n",
      "Average MAE Testing Score: 0.056964141225149076\n",
      "\n",
      "Average MAE Training Score: 0.05696417403717422\n"
     ]
    }
   ],
   "source": [
    "from sklearn import metrics\n",
    "\n",
    "k_folds = KFold(n_splits=10, shuffle=True, random_state=42)\n",
    "\n",
    "# Initialize a list to store the cross-validation mae scores\n",
    "test_score = []\n",
    "train_score = []\n",
    "\n",
    "# Perform cross-validation\n",
    "for train_index, test_index in k_folds.split(x):\n",
    "    x_train, x_test = x.iloc[train_index], x.iloc[test_index]\n",
    "    y_train, y_test = y.iloc[train_index], y.iloc[test_index]\n",
    "    \n",
    "    # Fit the model on the training data\n",
    "    rfr.fit(x_train, y_train)\n",
    "    \n",
    "    # Make predictions on the train and test data\n",
    "    y_pred_test = rr.predict(x_test)\n",
    "    y_pred_train = rr.predict(x_train)\n",
    "    \n",
    "    # Calculate the accuracy score for this fold\n",
    "    mae_test = metrics.mean_absolute_error(y_pred_test,y_test)\n",
    "    mae_train = metrics.mean_absolute_error(y_pred_train,y_train)\n",
    "    \n",
    "    # Store the mae score\n",
    "    test_score.append(mae_test)\n",
    "    train_score.append(mae_train)\n",
    "\n",
    "# Print the mae scores for each fold\n",
    "print(\"Testing MAE Scores for Each Fold:\")\n",
    "for fold, score in enumerate(test_score):\n",
    "    print(f\"Fold {fold+1}: {score}\")\n",
    "    \n",
    "print(\"\\nTraining MAE Scores for Each Fold:\")\n",
    "for fold, score in enumerate(train_score):\n",
    "    print(f\"Fold {fold+1}: {score}\")\n",
    "\n",
    "# Calculate and print the average mae score\n",
    "average_mae_test = sum(test_score) / len(test_score)\n",
    "print(\"\\nAverage MAE Testing Score:\", average_mae_test)\n",
    "\n",
    "average_mae_train = sum(train_score) / len(train_score)\n",
    "print(\"\\nAverage MAE Training Score:\", average_mae_train)\n"
   ]
  },
  {
   "cell_type": "markdown",
   "id": "df906103",
   "metadata": {},
   "source": [
    "# Distribution Plot"
   ]
  },
  {
   "cell_type": "code",
   "execution_count": 50,
   "id": "bc73d564",
   "metadata": {},
   "outputs": [],
   "source": [
    "# Function for plotting\n",
    "def DistributionPlot(actual, predict, actualName, predictName, Title):\n",
    "    width = 12\n",
    "    height = 10\n",
    "    plt.figure(figsize=(width, height))\n",
    "\n",
    "    ax1 = sns.distplot(actual, hist=False, color=\"r\", label=actualName)\n",
    "    ax2 = sns.distplot(predict, hist=False, color=\"b\", label=predictName, ax=ax1)\n",
    "    plt.title(Title)\n",
    "    plt.legend()\n",
    "    plt.show()\n",
    "    plt.close()"
   ]
  },
  {
   "cell_type": "markdown",
   "id": "d69a68f6",
   "metadata": {},
   "source": [
    "## For Ridge Regressor"
   ]
  },
  {
   "cell_type": "code",
   "execution_count": 51,
   "id": "b01d28e3",
   "metadata": {},
   "outputs": [
    {
     "data": {
      "image/png": "[encoded data removed]",
      "text/plain": [
       "<Figure size 864x720 with 1 Axes>"
      ]
     },
     "metadata": {
      "needs_background": "light"
     },
     "output_type": "display_data"
    }
   ],
   "source": [
    "Title = 'Distribution Plot of Predicted Value Using Actual Training Data vs Predicted Training Data'\n",
    "DistributionPlot(y_train,y_train_predict_rr,\"Actual Values (Train)\",\"Predicted Values (Train)\",Title)"
   ]
  },
  {
   "cell_type": "code",
   "execution_count": 52,
   "id": "011b60f0",
   "metadata": {},
   "outputs": [
    {
     "data": {
      "image/png": "[encoded data removed]",
      "text/plain": [
       "<Figure size 864x720 with 1 Axes>"
      ]
     },
     "metadata": {
      "needs_background": "light"
     },
     "output_type": "display_data"
    }
   ],
   "source": [
    "Title = 'Distribution Plot of Predicted Value Using Actual Testing Data vs Predicted Testing Data'\n",
    "DistributionPlot(y_test,y_test_predict_rr,\"Actual Values (Test)\",\"Predicted Values (Test)\",Title)"
   ]
  },
  {
   "cell_type": "markdown",
   "id": "599b8be7",
   "metadata": {},
   "source": [
    "## For Random Forest Regressor"
   ]
  },
  {
   "cell_type": "code",
   "execution_count": 53,
   "id": "5224cc55",
   "metadata": {},
   "outputs": [
    {
     "data": {
      "image/png": "[encoded data removed]",
      "text/plain": [
       "<Figure size 864x720 with 1 Axes>"
      ]
     },
     "metadata": {
      "needs_background": "light"
     },
     "output_type": "display_data"
    }
   ],
   "source": [
    "Title = 'Distribution Plot of Predicted Value Using Actual Training Data vs Predicted Training Data'\n",
    "DistributionPlot(y_train,y_train_predict_rfr_1,\"Actual Values (Train)\",\"Predicted Values (Train)\",Title)"
   ]
  },
  {
   "cell_type": "code",
   "execution_count": 54,
   "id": "2a1e7c90",
   "metadata": {},
   "outputs": [
    {
     "data": {
      "image/png": "[encoded data removed]",
      "text/plain": [
       "<Figure size 864x720 with 1 Axes>"
      ]
     },
     "metadata": {
      "needs_background": "light"
     },
     "output_type": "display_data"
    }
   ],
   "source": [
    "Title = 'Distribution Plot of Predicted Value Using Actual Testing Data vs Predicted Testing Data'\n",
    "DistributionPlot(y_test,y_test_predict_rfr_1,\"Actual Values (Test)\",\"Predicted Values (Test)\",Title)"
   ]
  }
 ],
 "metadata": {
  "kernelspec": {
   "display_name": "Python 3 (ipykernel)",
   "language": "python",
   "name": "python3"
  },
  "language_info": {
   "codemirror_mode": {
    "name": "ipython",
    "version": 3
   },
   "file_extension": ".py",
   "mimetype": "text/x-python",
   "name": "python",
   "nbconvert_exporter": "python",
   "pygments_lexer": "ipython3",
   "version": "3.9.7"
  }
 },
 "nbformat": 4,
 "nbformat_minor": 5
}
