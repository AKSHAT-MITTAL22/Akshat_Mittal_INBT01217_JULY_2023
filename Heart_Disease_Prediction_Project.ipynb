{
 "cells": [
  {
   "cell_type": "markdown",
   "id": "75ca0118",
   "metadata": {},
   "source": [
    "# **Project- Heart Disease Prediction Model**"
   ]
  },
  {
   "cell_type": "code",
   "execution_count": 1,
   "id": "4afa4270",
   "metadata": {},
   "outputs": [],
   "source": [
    "#Importing relevant Libraries\n",
    "import numpy as np\n",
    "import pandas as pd\n",
    "import matplotlib.pyplot as plt\n",
    "import seaborn as sns"
   ]
  },
  {
   "cell_type": "markdown",
   "id": "5596e77a",
   "metadata": {},
   "source": [
    "# 1. Data Preprocessing"
   ]
  },
  {
   "cell_type": "code",
   "execution_count": 2,
   "id": "8f0a6743",
   "metadata": {},
   "outputs": [],
   "source": [
    "data = pd.read_csv(\"heart.csv\")"
   ]
  },
  {
   "cell_type": "code",
   "execution_count": 3,
   "id": "ef0c3780",
   "metadata": {},
   "outputs": [
    {
     "data": {
      "text/html": [
       "<div>\n",
       "<style scoped>\n",
       "    .dataframe tbody tr th:only-of-type {\n",
       "        vertical-align: middle;\n",
       "    }\n",
       "\n",
       "    .dataframe tbody tr th {\n",
       "        vertical-align: top;\n",
       "    }\n",
       "\n",
       "    .dataframe thead th {\n",
       "        text-align: right;\n",
       "    }\n",
       "</style>\n",
       "<table border=\"1\" class=\"dataframe\">\n",
       "  <thead>\n",
       "    <tr style=\"text-align: right;\">\n",
       "      <th></th>\n",
       "      <th>age</th>\n",
       "      <th>sex</th>\n",
       "      <th>cp</th>\n",
       "      <th>trestbps</th>\n",
       "      <th>chol</th>\n",
       "      <th>fbs</th>\n",
       "      <th>restecg</th>\n",
       "      <th>thalach</th>\n",
       "      <th>exang</th>\n",
       "      <th>oldpeak</th>\n",
       "      <th>slope</th>\n",
       "      <th>ca</th>\n",
       "      <th>thal</th>\n",
       "      <th>target</th>\n",
       "    </tr>\n",
       "  </thead>\n",
       "  <tbody>\n",
       "    <tr>\n",
       "      <th>0</th>\n",
       "      <td>52</td>\n",
       "      <td>1</td>\n",
       "      <td>0</td>\n",
       "      <td>125</td>\n",
       "      <td>212</td>\n",
       "      <td>0</td>\n",
       "      <td>1</td>\n",
       "      <td>168</td>\n",
       "      <td>0</td>\n",
       "      <td>1.0</td>\n",
       "      <td>2</td>\n",
       "      <td>2</td>\n",
       "      <td>3</td>\n",
       "      <td>0</td>\n",
       "    </tr>\n",
       "    <tr>\n",
       "      <th>1</th>\n",
       "      <td>53</td>\n",
       "      <td>1</td>\n",
       "      <td>0</td>\n",
       "      <td>140</td>\n",
       "      <td>203</td>\n",
       "      <td>1</td>\n",
       "      <td>0</td>\n",
       "      <td>155</td>\n",
       "      <td>1</td>\n",
       "      <td>3.1</td>\n",
       "      <td>0</td>\n",
       "      <td>0</td>\n",
       "      <td>3</td>\n",
       "      <td>0</td>\n",
       "    </tr>\n",
       "    <tr>\n",
       "      <th>2</th>\n",
       "      <td>70</td>\n",
       "      <td>1</td>\n",
       "      <td>0</td>\n",
       "      <td>145</td>\n",
       "      <td>174</td>\n",
       "      <td>0</td>\n",
       "      <td>1</td>\n",
       "      <td>125</td>\n",
       "      <td>1</td>\n",
       "      <td>2.6</td>\n",
       "      <td>0</td>\n",
       "      <td>0</td>\n",
       "      <td>3</td>\n",
       "      <td>0</td>\n",
       "    </tr>\n",
       "    <tr>\n",
       "      <th>3</th>\n",
       "      <td>61</td>\n",
       "      <td>1</td>\n",
       "      <td>0</td>\n",
       "      <td>148</td>\n",
       "      <td>203</td>\n",
       "      <td>0</td>\n",
       "      <td>1</td>\n",
       "      <td>161</td>\n",
       "      <td>0</td>\n",
       "      <td>0.0</td>\n",
       "      <td>2</td>\n",
       "      <td>1</td>\n",
       "      <td>3</td>\n",
       "      <td>0</td>\n",
       "    </tr>\n",
       "    <tr>\n",
       "      <th>4</th>\n",
       "      <td>62</td>\n",
       "      <td>0</td>\n",
       "      <td>0</td>\n",
       "      <td>138</td>\n",
       "      <td>294</td>\n",
       "      <td>1</td>\n",
       "      <td>1</td>\n",
       "      <td>106</td>\n",
       "      <td>0</td>\n",
       "      <td>1.9</td>\n",
       "      <td>1</td>\n",
       "      <td>3</td>\n",
       "      <td>2</td>\n",
       "      <td>0</td>\n",
       "    </tr>\n",
       "    <tr>\n",
       "      <th>...</th>\n",
       "      <td>...</td>\n",
       "      <td>...</td>\n",
       "      <td>...</td>\n",
       "      <td>...</td>\n",
       "      <td>...</td>\n",
       "      <td>...</td>\n",
       "      <td>...</td>\n",
       "      <td>...</td>\n",
       "      <td>...</td>\n",
       "      <td>...</td>\n",
       "      <td>...</td>\n",
       "      <td>...</td>\n",
       "      <td>...</td>\n",
       "      <td>...</td>\n",
       "    </tr>\n",
       "    <tr>\n",
       "      <th>1020</th>\n",
       "      <td>59</td>\n",
       "      <td>1</td>\n",
       "      <td>1</td>\n",
       "      <td>140</td>\n",
       "      <td>221</td>\n",
       "      <td>0</td>\n",
       "      <td>1</td>\n",
       "      <td>164</td>\n",
       "      <td>1</td>\n",
       "      <td>0.0</td>\n",
       "      <td>2</td>\n",
       "      <td>0</td>\n",
       "      <td>2</td>\n",
       "      <td>1</td>\n",
       "    </tr>\n",
       "    <tr>\n",
       "      <th>1021</th>\n",
       "      <td>60</td>\n",
       "      <td>1</td>\n",
       "      <td>0</td>\n",
       "      <td>125</td>\n",
       "      <td>258</td>\n",
       "      <td>0</td>\n",
       "      <td>0</td>\n",
       "      <td>141</td>\n",
       "      <td>1</td>\n",
       "      <td>2.8</td>\n",
       "      <td>1</td>\n",
       "      <td>1</td>\n",
       "      <td>3</td>\n",
       "      <td>0</td>\n",
       "    </tr>\n",
       "    <tr>\n",
       "      <th>1022</th>\n",
       "      <td>47</td>\n",
       "      <td>1</td>\n",
       "      <td>0</td>\n",
       "      <td>110</td>\n",
       "      <td>275</td>\n",
       "      <td>0</td>\n",
       "      <td>0</td>\n",
       "      <td>118</td>\n",
       "      <td>1</td>\n",
       "      <td>1.0</td>\n",
       "      <td>1</td>\n",
       "      <td>1</td>\n",
       "      <td>2</td>\n",
       "      <td>0</td>\n",
       "    </tr>\n",
       "    <tr>\n",
       "      <th>1023</th>\n",
       "      <td>50</td>\n",
       "      <td>0</td>\n",
       "      <td>0</td>\n",
       "      <td>110</td>\n",
       "      <td>254</td>\n",
       "      <td>0</td>\n",
       "      <td>0</td>\n",
       "      <td>159</td>\n",
       "      <td>0</td>\n",
       "      <td>0.0</td>\n",
       "      <td>2</td>\n",
       "      <td>0</td>\n",
       "      <td>2</td>\n",
       "      <td>1</td>\n",
       "    </tr>\n",
       "    <tr>\n",
       "      <th>1024</th>\n",
       "      <td>54</td>\n",
       "      <td>1</td>\n",
       "      <td>0</td>\n",
       "      <td>120</td>\n",
       "      <td>188</td>\n",
       "      <td>0</td>\n",
       "      <td>1</td>\n",
       "      <td>113</td>\n",
       "      <td>0</td>\n",
       "      <td>1.4</td>\n",
       "      <td>1</td>\n",
       "      <td>1</td>\n",
       "      <td>3</td>\n",
       "      <td>0</td>\n",
       "    </tr>\n",
       "  </tbody>\n",
       "</table>\n",
       "<p>1025 rows × 14 columns</p>\n",
       "</div>"
      ],
      "text/plain": [
       "      age  sex  cp  trestbps  chol  fbs  restecg  thalach  exang  oldpeak  \\\n",
       "0      52    1   0       125   212    0        1      168      0      1.0   \n",
       "1      53    1   0       140   203    1        0      155      1      3.1   \n",
       "2      70    1   0       145   174    0        1      125      1      2.6   \n",
       "3      61    1   0       148   203    0        1      161      0      0.0   \n",
       "4      62    0   0       138   294    1        1      106      0      1.9   \n",
       "...   ...  ...  ..       ...   ...  ...      ...      ...    ...      ...   \n",
       "1020   59    1   1       140   221    0        1      164      1      0.0   \n",
       "1021   60    1   0       125   258    0        0      141      1      2.8   \n",
       "1022   47    1   0       110   275    0        0      118      1      1.0   \n",
       "1023   50    0   0       110   254    0        0      159      0      0.0   \n",
       "1024   54    1   0       120   188    0        1      113      0      1.4   \n",
       "\n",
       "      slope  ca  thal  target  \n",
       "0         2   2     3       0  \n",
       "1         0   0     3       0  \n",
       "2         0   0     3       0  \n",
       "3         2   1     3       0  \n",
       "4         1   3     2       0  \n",
       "...     ...  ..   ...     ...  \n",
       "1020      2   0     2       1  \n",
       "1021      1   1     3       0  \n",
       "1022      1   1     2       0  \n",
       "1023      2   0     2       1  \n",
       "1024      1   1     3       0  \n",
       "\n",
       "[1025 rows x 14 columns]"
      ]
     },
     "execution_count": 3,
     "metadata": {},
     "output_type": "execute_result"
    }
   ],
   "source": [
    "data"
   ]
  },
  {
   "cell_type": "code",
   "execution_count": 4,
   "id": "43998dc0",
   "metadata": {},
   "outputs": [
    {
     "data": {
      "text/plain": [
       "(1025, 14)"
      ]
     },
     "execution_count": 4,
     "metadata": {},
     "output_type": "execute_result"
    }
   ],
   "source": [
    "data.shape"
   ]
  },
  {
   "cell_type": "code",
   "execution_count": 5,
   "id": "f5c8cb8d",
   "metadata": {},
   "outputs": [
    {
     "data": {
      "text/html": [
       "<div>\n",
       "<style scoped>\n",
       "    .dataframe tbody tr th:only-of-type {\n",
       "        vertical-align: middle;\n",
       "    }\n",
       "\n",
       "    .dataframe tbody tr th {\n",
       "        vertical-align: top;\n",
       "    }\n",
       "\n",
       "    .dataframe thead th {\n",
       "        text-align: right;\n",
       "    }\n",
       "</style>\n",
       "<table border=\"1\" class=\"dataframe\">\n",
       "  <thead>\n",
       "    <tr style=\"text-align: right;\">\n",
       "      <th></th>\n",
       "      <th>age</th>\n",
       "      <th>sex</th>\n",
       "      <th>cp</th>\n",
       "      <th>trestbps</th>\n",
       "      <th>chol</th>\n",
       "      <th>fbs</th>\n",
       "      <th>restecg</th>\n",
       "      <th>thalach</th>\n",
       "      <th>exang</th>\n",
       "      <th>oldpeak</th>\n",
       "      <th>slope</th>\n",
       "      <th>ca</th>\n",
       "      <th>thal</th>\n",
       "      <th>target</th>\n",
       "    </tr>\n",
       "  </thead>\n",
       "  <tbody>\n",
       "    <tr>\n",
       "      <th>0</th>\n",
       "      <td>52</td>\n",
       "      <td>1</td>\n",
       "      <td>0</td>\n",
       "      <td>125</td>\n",
       "      <td>212</td>\n",
       "      <td>0</td>\n",
       "      <td>1</td>\n",
       "      <td>168</td>\n",
       "      <td>0</td>\n",
       "      <td>1.0</td>\n",
       "      <td>2</td>\n",
       "      <td>2</td>\n",
       "      <td>3</td>\n",
       "      <td>0</td>\n",
       "    </tr>\n",
       "    <tr>\n",
       "      <th>1</th>\n",
       "      <td>53</td>\n",
       "      <td>1</td>\n",
       "      <td>0</td>\n",
       "      <td>140</td>\n",
       "      <td>203</td>\n",
       "      <td>1</td>\n",
       "      <td>0</td>\n",
       "      <td>155</td>\n",
       "      <td>1</td>\n",
       "      <td>3.1</td>\n",
       "      <td>0</td>\n",
       "      <td>0</td>\n",
       "      <td>3</td>\n",
       "      <td>0</td>\n",
       "    </tr>\n",
       "    <tr>\n",
       "      <th>2</th>\n",
       "      <td>70</td>\n",
       "      <td>1</td>\n",
       "      <td>0</td>\n",
       "      <td>145</td>\n",
       "      <td>174</td>\n",
       "      <td>0</td>\n",
       "      <td>1</td>\n",
       "      <td>125</td>\n",
       "      <td>1</td>\n",
       "      <td>2.6</td>\n",
       "      <td>0</td>\n",
       "      <td>0</td>\n",
       "      <td>3</td>\n",
       "      <td>0</td>\n",
       "    </tr>\n",
       "    <tr>\n",
       "      <th>3</th>\n",
       "      <td>61</td>\n",
       "      <td>1</td>\n",
       "      <td>0</td>\n",
       "      <td>148</td>\n",
       "      <td>203</td>\n",
       "      <td>0</td>\n",
       "      <td>1</td>\n",
       "      <td>161</td>\n",
       "      <td>0</td>\n",
       "      <td>0.0</td>\n",
       "      <td>2</td>\n",
       "      <td>1</td>\n",
       "      <td>3</td>\n",
       "      <td>0</td>\n",
       "    </tr>\n",
       "    <tr>\n",
       "      <th>4</th>\n",
       "      <td>62</td>\n",
       "      <td>0</td>\n",
       "      <td>0</td>\n",
       "      <td>138</td>\n",
       "      <td>294</td>\n",
       "      <td>1</td>\n",
       "      <td>1</td>\n",
       "      <td>106</td>\n",
       "      <td>0</td>\n",
       "      <td>1.9</td>\n",
       "      <td>1</td>\n",
       "      <td>3</td>\n",
       "      <td>2</td>\n",
       "      <td>0</td>\n",
       "    </tr>\n",
       "  </tbody>\n",
       "</table>\n",
       "</div>"
      ],
      "text/plain": [
       "   age  sex  cp  trestbps  chol  fbs  restecg  thalach  exang  oldpeak  slope  \\\n",
       "0   52    1   0       125   212    0        1      168      0      1.0      2   \n",
       "1   53    1   0       140   203    1        0      155      1      3.1      0   \n",
       "2   70    1   0       145   174    0        1      125      1      2.6      0   \n",
       "3   61    1   0       148   203    0        1      161      0      0.0      2   \n",
       "4   62    0   0       138   294    1        1      106      0      1.9      1   \n",
       "\n",
       "   ca  thal  target  \n",
       "0   2     3       0  \n",
       "1   0     3       0  \n",
       "2   0     3       0  \n",
       "3   1     3       0  \n",
       "4   3     2       0  "
      ]
     },
     "execution_count": 5,
     "metadata": {},
     "output_type": "execute_result"
    }
   ],
   "source": [
    "data.head()"
   ]
  },
  {
   "cell_type": "code",
   "execution_count": 6,
   "id": "f5d093c3",
   "metadata": {},
   "outputs": [
    {
     "data": {
      "text/html": [
       "<div>\n",
       "<style scoped>\n",
       "    .dataframe tbody tr th:only-of-type {\n",
       "        vertical-align: middle;\n",
       "    }\n",
       "\n",
       "    .dataframe tbody tr th {\n",
       "        vertical-align: top;\n",
       "    }\n",
       "\n",
       "    .dataframe thead th {\n",
       "        text-align: right;\n",
       "    }\n",
       "</style>\n",
       "<table border=\"1\" class=\"dataframe\">\n",
       "  <thead>\n",
       "    <tr style=\"text-align: right;\">\n",
       "      <th></th>\n",
       "      <th>age</th>\n",
       "      <th>sex</th>\n",
       "      <th>cp</th>\n",
       "      <th>trestbps</th>\n",
       "      <th>chol</th>\n",
       "      <th>fbs</th>\n",
       "      <th>restecg</th>\n",
       "      <th>thalach</th>\n",
       "      <th>exang</th>\n",
       "      <th>oldpeak</th>\n",
       "      <th>slope</th>\n",
       "      <th>ca</th>\n",
       "      <th>thal</th>\n",
       "      <th>target</th>\n",
       "    </tr>\n",
       "  </thead>\n",
       "  <tbody>\n",
       "    <tr>\n",
       "      <th>1020</th>\n",
       "      <td>59</td>\n",
       "      <td>1</td>\n",
       "      <td>1</td>\n",
       "      <td>140</td>\n",
       "      <td>221</td>\n",
       "      <td>0</td>\n",
       "      <td>1</td>\n",
       "      <td>164</td>\n",
       "      <td>1</td>\n",
       "      <td>0.0</td>\n",
       "      <td>2</td>\n",
       "      <td>0</td>\n",
       "      <td>2</td>\n",
       "      <td>1</td>\n",
       "    </tr>\n",
       "    <tr>\n",
       "      <th>1021</th>\n",
       "      <td>60</td>\n",
       "      <td>1</td>\n",
       "      <td>0</td>\n",
       "      <td>125</td>\n",
       "      <td>258</td>\n",
       "      <td>0</td>\n",
       "      <td>0</td>\n",
       "      <td>141</td>\n",
       "      <td>1</td>\n",
       "      <td>2.8</td>\n",
       "      <td>1</td>\n",
       "      <td>1</td>\n",
       "      <td>3</td>\n",
       "      <td>0</td>\n",
       "    </tr>\n",
       "    <tr>\n",
       "      <th>1022</th>\n",
       "      <td>47</td>\n",
       "      <td>1</td>\n",
       "      <td>0</td>\n",
       "      <td>110</td>\n",
       "      <td>275</td>\n",
       "      <td>0</td>\n",
       "      <td>0</td>\n",
       "      <td>118</td>\n",
       "      <td>1</td>\n",
       "      <td>1.0</td>\n",
       "      <td>1</td>\n",
       "      <td>1</td>\n",
       "      <td>2</td>\n",
       "      <td>0</td>\n",
       "    </tr>\n",
       "    <tr>\n",
       "      <th>1023</th>\n",
       "      <td>50</td>\n",
       "      <td>0</td>\n",
       "      <td>0</td>\n",
       "      <td>110</td>\n",
       "      <td>254</td>\n",
       "      <td>0</td>\n",
       "      <td>0</td>\n",
       "      <td>159</td>\n",
       "      <td>0</td>\n",
       "      <td>0.0</td>\n",
       "      <td>2</td>\n",
       "      <td>0</td>\n",
       "      <td>2</td>\n",
       "      <td>1</td>\n",
       "    </tr>\n",
       "    <tr>\n",
       "      <th>1024</th>\n",
       "      <td>54</td>\n",
       "      <td>1</td>\n",
       "      <td>0</td>\n",
       "      <td>120</td>\n",
       "      <td>188</td>\n",
       "      <td>0</td>\n",
       "      <td>1</td>\n",
       "      <td>113</td>\n",
       "      <td>0</td>\n",
       "      <td>1.4</td>\n",
       "      <td>1</td>\n",
       "      <td>1</td>\n",
       "      <td>3</td>\n",
       "      <td>0</td>\n",
       "    </tr>\n",
       "  </tbody>\n",
       "</table>\n",
       "</div>"
      ],
      "text/plain": [
       "      age  sex  cp  trestbps  chol  fbs  restecg  thalach  exang  oldpeak  \\\n",
       "1020   59    1   1       140   221    0        1      164      1      0.0   \n",
       "1021   60    1   0       125   258    0        0      141      1      2.8   \n",
       "1022   47    1   0       110   275    0        0      118      1      1.0   \n",
       "1023   50    0   0       110   254    0        0      159      0      0.0   \n",
       "1024   54    1   0       120   188    0        1      113      0      1.4   \n",
       "\n",
       "      slope  ca  thal  target  \n",
       "1020      2   0     2       1  \n",
       "1021      1   1     3       0  \n",
       "1022      1   1     2       0  \n",
       "1023      2   0     2       1  \n",
       "1024      1   1     3       0  "
      ]
     },
     "execution_count": 6,
     "metadata": {},
     "output_type": "execute_result"
    }
   ],
   "source": [
    "data.tail()"
   ]
  },
  {
   "cell_type": "code",
   "execution_count": 7,
   "id": "a9f7cd2c",
   "metadata": {},
   "outputs": [
    {
     "data": {
      "text/plain": [
       "Index(['age', 'sex', 'cp', 'trestbps', 'chol', 'fbs', 'restecg', 'thalach',\n",
       "       'exang', 'oldpeak', 'slope', 'ca', 'thal', 'target'],\n",
       "      dtype='object')"
      ]
     },
     "execution_count": 7,
     "metadata": {},
     "output_type": "execute_result"
    }
   ],
   "source": [
    "data.keys()"
   ]
  },
  {
   "cell_type": "code",
   "execution_count": 8,
   "id": "7fdb06c1",
   "metadata": {},
   "outputs": [
    {
     "name": "stdout",
     "output_type": "stream",
     "text": [
      "<class 'pandas.core.frame.DataFrame'>\n",
      "RangeIndex: 1025 entries, 0 to 1024\n",
      "Data columns (total 14 columns):\n",
      " #   Column    Non-Null Count  Dtype  \n",
      "---  ------    --------------  -----  \n",
      " 0   age       1025 non-null   int64  \n",
      " 1   sex       1025 non-null   int64  \n",
      " 2   cp        1025 non-null   int64  \n",
      " 3   trestbps  1025 non-null   int64  \n",
      " 4   chol      1025 non-null   int64  \n",
      " 5   fbs       1025 non-null   int64  \n",
      " 6   restecg   1025 non-null   int64  \n",
      " 7   thalach   1025 non-null   int64  \n",
      " 8   exang     1025 non-null   int64  \n",
      " 9   oldpeak   1025 non-null   float64\n",
      " 10  slope     1025 non-null   int64  \n",
      " 11  ca        1025 non-null   int64  \n",
      " 12  thal      1025 non-null   int64  \n",
      " 13  target    1025 non-null   int64  \n",
      "dtypes: float64(1), int64(13)\n",
      "memory usage: 112.2 KB\n"
     ]
    }
   ],
   "source": [
    "data.info() #checking for missing values"
   ]
  },
  {
   "cell_type": "markdown",
   "id": "b9beb6b5",
   "metadata": {},
   "source": [
    "### Importing Libraries for model building"
   ]
  },
  {
   "cell_type": "code",
   "execution_count": 9,
   "id": "649eb6d1",
   "metadata": {},
   "outputs": [],
   "source": [
    "from sklearn.preprocessing import StandardScaler\n",
    "from sklearn.neighbors import KNeighborsClassifier\n",
    "from sklearn.naive_bayes import GaussianNB  \n",
    "from sklearn.tree import DecisionTreeClassifier\n",
    "from sklearn.model_selection import train_test_split\n",
    "from sklearn.metrics import classification_report,recall_score,accuracy_score,precision_score,confusion_matrix,f1_score, roc_auc_score"
   ]
  },
  {
   "cell_type": "code",
   "execution_count": 10,
   "id": "a5eb0b17",
   "metadata": {},
   "outputs": [],
   "source": [
    "x = data.iloc[:,:-1]\n",
    "y = data.iloc[:,-1]"
   ]
  },
  {
   "cell_type": "code",
   "execution_count": 11,
   "id": "2026e7f8",
   "metadata": {},
   "outputs": [
    {
     "name": "stdout",
     "output_type": "stream",
     "text": [
      "(820, 13)\n",
      "(205, 13)\n",
      "(820,)\n",
      "(205,)\n"
     ]
    }
   ],
   "source": [
    "x_train, x_test, y_train, y_test = train_test_split(x,y,test_size=0.2,random_state=40)\n",
    "print(x_train.shape)\n",
    "print(x_test.shape)\n",
    "print(y_train.shape)\n",
    "print(y_test.shape)"
   ]
  },
  {
   "cell_type": "code",
   "execution_count": 12,
   "id": "21c6df38",
   "metadata": {},
   "outputs": [],
   "source": [
    "scaler = StandardScaler()"
   ]
  },
  {
   "cell_type": "code",
   "execution_count": 13,
   "id": "490723df",
   "metadata": {},
   "outputs": [],
   "source": [
    "x_train_new = scaler.fit_transform(x_train)\n",
    "x_test_new = scaler.transform(x_test)"
   ]
  },
  {
   "cell_type": "markdown",
   "id": "7274217a",
   "metadata": {},
   "source": [
    "# 2. EDA"
   ]
  },
  {
   "cell_type": "code",
   "execution_count": 14,
   "id": "d0be1baa",
   "metadata": {},
   "outputs": [
    {
     "data": {
      "text/html": [
       "<div>\n",
       "<style scoped>\n",
       "    .dataframe tbody tr th:only-of-type {\n",
       "        vertical-align: middle;\n",
       "    }\n",
       "\n",
       "    .dataframe tbody tr th {\n",
       "        vertical-align: top;\n",
       "    }\n",
       "\n",
       "    .dataframe thead th {\n",
       "        text-align: right;\n",
       "    }\n",
       "</style>\n",
       "<table border=\"1\" class=\"dataframe\">\n",
       "  <thead>\n",
       "    <tr style=\"text-align: right;\">\n",
       "      <th></th>\n",
       "      <th>age</th>\n",
       "      <th>sex</th>\n",
       "      <th>cp</th>\n",
       "      <th>trestbps</th>\n",
       "      <th>chol</th>\n",
       "      <th>fbs</th>\n",
       "      <th>restecg</th>\n",
       "      <th>thalach</th>\n",
       "      <th>exang</th>\n",
       "      <th>oldpeak</th>\n",
       "      <th>slope</th>\n",
       "      <th>ca</th>\n",
       "      <th>thal</th>\n",
       "      <th>target</th>\n",
       "    </tr>\n",
       "  </thead>\n",
       "  <tbody>\n",
       "    <tr>\n",
       "      <th>count</th>\n",
       "      <td>1025.000000</td>\n",
       "      <td>1025.000000</td>\n",
       "      <td>1025.000000</td>\n",
       "      <td>1025.000000</td>\n",
       "      <td>1025.00000</td>\n",
       "      <td>1025.000000</td>\n",
       "      <td>1025.000000</td>\n",
       "      <td>1025.000000</td>\n",
       "      <td>1025.000000</td>\n",
       "      <td>1025.000000</td>\n",
       "      <td>1025.000000</td>\n",
       "      <td>1025.000000</td>\n",
       "      <td>1025.000000</td>\n",
       "      <td>1025.000000</td>\n",
       "    </tr>\n",
       "    <tr>\n",
       "      <th>mean</th>\n",
       "      <td>54.434146</td>\n",
       "      <td>0.695610</td>\n",
       "      <td>0.942439</td>\n",
       "      <td>131.611707</td>\n",
       "      <td>246.00000</td>\n",
       "      <td>0.149268</td>\n",
       "      <td>0.529756</td>\n",
       "      <td>149.114146</td>\n",
       "      <td>0.336585</td>\n",
       "      <td>1.071512</td>\n",
       "      <td>1.385366</td>\n",
       "      <td>0.754146</td>\n",
       "      <td>2.323902</td>\n",
       "      <td>0.513171</td>\n",
       "    </tr>\n",
       "    <tr>\n",
       "      <th>std</th>\n",
       "      <td>9.072290</td>\n",
       "      <td>0.460373</td>\n",
       "      <td>1.029641</td>\n",
       "      <td>17.516718</td>\n",
       "      <td>51.59251</td>\n",
       "      <td>0.356527</td>\n",
       "      <td>0.527878</td>\n",
       "      <td>23.005724</td>\n",
       "      <td>0.472772</td>\n",
       "      <td>1.175053</td>\n",
       "      <td>0.617755</td>\n",
       "      <td>1.030798</td>\n",
       "      <td>0.620660</td>\n",
       "      <td>0.500070</td>\n",
       "    </tr>\n",
       "    <tr>\n",
       "      <th>min</th>\n",
       "      <td>29.000000</td>\n",
       "      <td>0.000000</td>\n",
       "      <td>0.000000</td>\n",
       "      <td>94.000000</td>\n",
       "      <td>126.00000</td>\n",
       "      <td>0.000000</td>\n",
       "      <td>0.000000</td>\n",
       "      <td>71.000000</td>\n",
       "      <td>0.000000</td>\n",
       "      <td>0.000000</td>\n",
       "      <td>0.000000</td>\n",
       "      <td>0.000000</td>\n",
       "      <td>0.000000</td>\n",
       "      <td>0.000000</td>\n",
       "    </tr>\n",
       "    <tr>\n",
       "      <th>25%</th>\n",
       "      <td>48.000000</td>\n",
       "      <td>0.000000</td>\n",
       "      <td>0.000000</td>\n",
       "      <td>120.000000</td>\n",
       "      <td>211.00000</td>\n",
       "      <td>0.000000</td>\n",
       "      <td>0.000000</td>\n",
       "      <td>132.000000</td>\n",
       "      <td>0.000000</td>\n",
       "      <td>0.000000</td>\n",
       "      <td>1.000000</td>\n",
       "      <td>0.000000</td>\n",
       "      <td>2.000000</td>\n",
       "      <td>0.000000</td>\n",
       "    </tr>\n",
       "    <tr>\n",
       "      <th>50%</th>\n",
       "      <td>56.000000</td>\n",
       "      <td>1.000000</td>\n",
       "      <td>1.000000</td>\n",
       "      <td>130.000000</td>\n",
       "      <td>240.00000</td>\n",
       "      <td>0.000000</td>\n",
       "      <td>1.000000</td>\n",
       "      <td>152.000000</td>\n",
       "      <td>0.000000</td>\n",
       "      <td>0.800000</td>\n",
       "      <td>1.000000</td>\n",
       "      <td>0.000000</td>\n",
       "      <td>2.000000</td>\n",
       "      <td>1.000000</td>\n",
       "    </tr>\n",
       "    <tr>\n",
       "      <th>75%</th>\n",
       "      <td>61.000000</td>\n",
       "      <td>1.000000</td>\n",
       "      <td>2.000000</td>\n",
       "      <td>140.000000</td>\n",
       "      <td>275.00000</td>\n",
       "      <td>0.000000</td>\n",
       "      <td>1.000000</td>\n",
       "      <td>166.000000</td>\n",
       "      <td>1.000000</td>\n",
       "      <td>1.800000</td>\n",
       "      <td>2.000000</td>\n",
       "      <td>1.000000</td>\n",
       "      <td>3.000000</td>\n",
       "      <td>1.000000</td>\n",
       "    </tr>\n",
       "    <tr>\n",
       "      <th>max</th>\n",
       "      <td>77.000000</td>\n",
       "      <td>1.000000</td>\n",
       "      <td>3.000000</td>\n",
       "      <td>200.000000</td>\n",
       "      <td>564.00000</td>\n",
       "      <td>1.000000</td>\n",
       "      <td>2.000000</td>\n",
       "      <td>202.000000</td>\n",
       "      <td>1.000000</td>\n",
       "      <td>6.200000</td>\n",
       "      <td>2.000000</td>\n",
       "      <td>4.000000</td>\n",
       "      <td>3.000000</td>\n",
       "      <td>1.000000</td>\n",
       "    </tr>\n",
       "  </tbody>\n",
       "</table>\n",
       "</div>"
      ],
      "text/plain": [
       "               age          sex           cp     trestbps        chol  \\\n",
       "count  1025.000000  1025.000000  1025.000000  1025.000000  1025.00000   \n",
       "mean     54.434146     0.695610     0.942439   131.611707   246.00000   \n",
       "std       9.072290     0.460373     1.029641    17.516718    51.59251   \n",
       "min      29.000000     0.000000     0.000000    94.000000   126.00000   \n",
       "25%      48.000000     0.000000     0.000000   120.000000   211.00000   \n",
       "50%      56.000000     1.000000     1.000000   130.000000   240.00000   \n",
       "75%      61.000000     1.000000     2.000000   140.000000   275.00000   \n",
       "max      77.000000     1.000000     3.000000   200.000000   564.00000   \n",
       "\n",
       "               fbs      restecg      thalach        exang      oldpeak  \\\n",
       "count  1025.000000  1025.000000  1025.000000  1025.000000  1025.000000   \n",
       "mean      0.149268     0.529756   149.114146     0.336585     1.071512   \n",
       "std       0.356527     0.527878    23.005724     0.472772     1.175053   \n",
       "min       0.000000     0.000000    71.000000     0.000000     0.000000   \n",
       "25%       0.000000     0.000000   132.000000     0.000000     0.000000   \n",
       "50%       0.000000     1.000000   152.000000     0.000000     0.800000   \n",
       "75%       0.000000     1.000000   166.000000     1.000000     1.800000   \n",
       "max       1.000000     2.000000   202.000000     1.000000     6.200000   \n",
       "\n",
       "             slope           ca         thal       target  \n",
       "count  1025.000000  1025.000000  1025.000000  1025.000000  \n",
       "mean      1.385366     0.754146     2.323902     0.513171  \n",
       "std       0.617755     1.030798     0.620660     0.500070  \n",
       "min       0.000000     0.000000     0.000000     0.000000  \n",
       "25%       1.000000     0.000000     2.000000     0.000000  \n",
       "50%       1.000000     0.000000     2.000000     1.000000  \n",
       "75%       2.000000     1.000000     3.000000     1.000000  \n",
       "max       2.000000     4.000000     3.000000     1.000000  "
      ]
     },
     "execution_count": 14,
     "metadata": {},
     "output_type": "execute_result"
    }
   ],
   "source": [
    "data.describe()"
   ]
  },
  {
   "cell_type": "code",
   "execution_count": 15,
   "id": "fd2e73ef",
   "metadata": {},
   "outputs": [
    {
     "data": {
      "text/plain": [
       "age         0\n",
       "sex         0\n",
       "cp          0\n",
       "trestbps    0\n",
       "chol        0\n",
       "fbs         0\n",
       "restecg     0\n",
       "thalach     0\n",
       "exang       0\n",
       "oldpeak     0\n",
       "slope       0\n",
       "ca          0\n",
       "thal        0\n",
       "target      0\n",
       "dtype: int64"
      ]
     },
     "execution_count": 15,
     "metadata": {},
     "output_type": "execute_result"
    }
   ],
   "source": [
    "data.isnull().sum()"
   ]
  },
  {
   "cell_type": "markdown",
   "id": "15b1e153",
   "metadata": {},
   "source": [
    "## Visualizations"
   ]
  },
  {
   "cell_type": "code",
   "execution_count": 16,
   "id": "3e4310d9",
   "metadata": {},
   "outputs": [
    {
     "data": {
      "text/plain": [
       "Text(0, 0.5, 'Count')"
      ]
     },
     "execution_count": 16,
     "metadata": {},
     "output_type": "execute_result"
    },
    {
     "data": {
      "image/png": "[encoded data removed]",
      "text/plain": [
       "<Figure size 432x288 with 1 Axes>"
      ]
     },
     "metadata": {
      "needs_background": "light"
     },
     "output_type": "display_data"
    }
   ],
   "source": [
    "data['sex'].value_counts().plot.bar()\n",
    "plt.xlabel('Sex')\n",
    "plt.ylabel('Count')\n",
    "\n",
    "# Male-1, Female-0"
   ]
  },
  {
   "cell_type": "code",
   "execution_count": 17,
   "id": "ac712113",
   "metadata": {},
   "outputs": [
    {
     "data": {
      "text/plain": [
       "Text(0, 0.5, 'count')"
      ]
     },
     "execution_count": 17,
     "metadata": {},
     "output_type": "execute_result"
    },
    {
     "data": {
      "image/png": "[encoded data removed]",
      "text/plain": [
       "<Figure size 432x288 with 1 Axes>"
      ]
     },
     "metadata": {
      "needs_background": "light"
     },
     "output_type": "display_data"
    }
   ],
   "source": [
    "data['cp'].value_counts().plot.bar()\n",
    "plt.xlabel('cp')\n",
    "plt.ylabel('count')"
   ]
  },
  {
   "cell_type": "code",
   "execution_count": 18,
   "id": "6b15eefe",
   "metadata": {},
   "outputs": [
    {
     "data": {
      "text/plain": [
       "Text(0, 0.5, 'count')"
      ]
     },
     "execution_count": 18,
     "metadata": {},
     "output_type": "execute_result"
    },
    {
     "data": {
      "image/png": "[encoded data removed]",
      "text/plain": [
       "<Figure size 432x288 with 1 Axes>"
      ]
     },
     "metadata": {
      "needs_background": "light"
     },
     "output_type": "display_data"
    }
   ],
   "source": [
    "data['restecg'].value_counts().plot.bar()\n",
    "plt.xlabel('restecg')\n",
    "plt.ylabel('count')"
   ]
  },
  {
   "cell_type": "code",
   "execution_count": 19,
   "id": "7f89a13e",
   "metadata": {},
   "outputs": [
    {
     "data": {
      "text/plain": [
       "<AxesSubplot:xlabel='cp', ylabel='count'>"
      ]
     },
     "execution_count": 19,
     "metadata": {},
     "output_type": "execute_result"
    },
    {
     "data": {
      "image/png": "[encoded data removed]",
      "text/plain": [
       "<Figure size 432x288 with 1 Axes>"
      ]
     },
     "metadata": {
      "needs_background": "light"
     },
     "output_type": "display_data"
    }
   ],
   "source": [
    "sns.countplot(x=data['cp'], hue=data['sex'])"
   ]
  },
  {
   "cell_type": "code",
   "execution_count": 20,
   "id": "7767d81b",
   "metadata": {},
   "outputs": [
    {
     "data": {
      "text/plain": [
       "Text(0, 0.5, 'Count')"
      ]
     },
     "execution_count": 20,
     "metadata": {},
     "output_type": "execute_result"
    },
    {
     "data": {
      "image/png": "[encoded data removed]",
      "text/plain": [
       "<Figure size 432x288 with 1 Axes>"
      ]
     },
     "metadata": {
      "needs_background": "light"
     },
     "output_type": "display_data"
    }
   ],
   "source": [
    "data['age'].value_counts().plot.hist()\n",
    "plt.xlabel('Ages')\n",
    "plt.ylabel('Count')"
   ]
  },
  {
   "cell_type": "code",
   "execution_count": 21,
   "id": "011f33be",
   "metadata": {},
   "outputs": [
    {
     "data": {
      "text/plain": [
       "<AxesSubplot:xlabel='sex', ylabel='Density'>"
      ]
     },
     "execution_count": 21,
     "metadata": {},
     "output_type": "execute_result"
    },
    {
     "data": {
      "image/png": "[encoded data removed]",
      "text/plain": [
       "<Figure size 432x288 with 1 Axes>"
      ]
     },
     "metadata": {
      "needs_background": "light"
     },
     "output_type": "display_data"
    }
   ],
   "source": [
    "sns.kdeplot(data['sex'])"
   ]
  },
  {
   "cell_type": "code",
   "execution_count": 22,
   "id": "f786c3d8",
   "metadata": {},
   "outputs": [
    {
     "data": {
      "text/plain": [
       "<AxesSubplot:xlabel='age', ylabel='Count'>"
      ]
     },
     "execution_count": 22,
     "metadata": {},
     "output_type": "execute_result"
    },
    {
     "data": {
      "image/png": "[encoded data removed]",
      "text/plain": [
       "<Figure size 432x288 with 1 Axes>"
      ]
     },
     "metadata": {
      "needs_background": "light"
     },
     "output_type": "display_data"
    }
   ],
   "source": [
    "sns.histplot(data['age'],kde='true')"
   ]
  },
  {
   "cell_type": "code",
   "execution_count": 23,
   "id": "285f6a95",
   "metadata": {},
   "outputs": [
    {
     "data": {
      "text/plain": [
       "<AxesSubplot:>"
      ]
     },
     "execution_count": 23,
     "metadata": {},
     "output_type": "execute_result"
    },
    {
     "data": {
      "image/png": "[encoded data removed]",
      "text/plain": [
       "<Figure size 2160x1440 with 2 Axes>"
      ]
     },
     "metadata": {
      "needs_background": "light"
     },
     "output_type": "display_data"
    }
   ],
   "source": [
    "plt.figure(figsize=(30,20))\n",
    "sns.heatmap(data.describe(),annot=True)"
   ]
  },
  {
   "cell_type": "markdown",
   "id": "1cd9b900",
   "metadata": {},
   "source": [
    "# 3. Model Implementation"
   ]
  },
  {
   "cell_type": "markdown",
   "id": "41172c43",
   "metadata": {},
   "source": [
    "#### KNN Classifier"
   ]
  },
  {
   "cell_type": "code",
   "execution_count": 24,
   "id": "83aaebfa",
   "metadata": {},
   "outputs": [],
   "source": [
    "knn = KNeighborsClassifier(n_neighbors=5)\n",
    "knn.fit(x_train,y_train)\n",
    "y_train_predict_knn = knn.predict(x_train)\n",
    "y_test_predict_knn = knn.predict(x_test)"
   ]
  },
  {
   "cell_type": "markdown",
   "id": "79be542d",
   "metadata": {},
   "source": [
    "#### Naive Bayes Classifier (Using Gaussian Naive Bayes)"
   ]
  },
  {
   "cell_type": "code",
   "execution_count": 25,
   "id": "b4de8a4e",
   "metadata": {},
   "outputs": [],
   "source": [
    "nbc = GaussianNB()\n",
    "nbc.fit(x_train,y_train)\n",
    "y_train_predict_nbc = nbc.predict(x_train)\n",
    "y_test_predict_nbc = nbc.predict(x_test)"
   ]
  },
  {
   "cell_type": "markdown",
   "id": "62da38e5",
   "metadata": {},
   "source": [
    "#### Decision Tree Classifier"
   ]
  },
  {
   "cell_type": "code",
   "execution_count": 26,
   "id": "a993d196",
   "metadata": {},
   "outputs": [],
   "source": [
    "dtc = DecisionTreeClassifier(random_state=40, max_depth=6)\n",
    "dtc.fit(x_train_new, y_train)\n",
    "y_train_predict_dtc = dtc.predict(x_train)\n",
    "y_test_predict_dtc = dtc.predict(x_test_new)"
   ]
  },
  {
   "cell_type": "markdown",
   "id": "17117347",
   "metadata": {},
   "source": [
    "# 4. Model Evaluation"
   ]
  },
  {
   "cell_type": "markdown",
   "id": "43ce56b8",
   "metadata": {},
   "source": [
    "### • For KNN Classifier"
   ]
  },
  {
   "cell_type": "code",
   "execution_count": 27,
   "id": "d4e94684",
   "metadata": {},
   "outputs": [
    {
     "name": "stdout",
     "output_type": "stream",
     "text": [
      "KNN Classifier Model Performance: \n",
      "\n",
      "------------------Training Performance:----------------\n",
      "Accuracy        : 0.9195121951219513\n",
      "Precision       : 0.9302884615384616\n",
      "Recall          : 0.9127358490566038\n",
      "f1 Score        : 0.9214285714285714\n",
      "ROC AUC Score   : 0.9197517629121402\n",
      "Confusion Matrix:\n",
      " [[367  29]\n",
      " [ 37 387]]\n",
      "\n",
      "Classification Matrix :\n",
      "\n",
      "               precision    recall  f1-score   support\n",
      "\n",
      "           0       0.91      0.93      0.92       396\n",
      "           1       0.93      0.91      0.92       424\n",
      "\n",
      "    accuracy                           0.92       820\n",
      "   macro avg       0.92      0.92      0.92       820\n",
      "weighted avg       0.92      0.92      0.92       820\n",
      "\n",
      "\n",
      "-----------------Testing Performance:-----------------\n",
      "Accuracy        : 0.7463414634146341\n",
      "Precision       : 0.7314814814814815\n",
      "Recall          : 0.7745098039215687\n",
      "f1 Score        : 0.7523809523809524\n",
      "ROC AUC Score   : 0.7464782029316581\n",
      "Confusion Matrix:\n",
      " [[74 29]\n",
      " [23 79]]\n",
      "\n",
      "Classification Matrix :\n",
      "\n",
      "               precision    recall  f1-score   support\n",
      "\n",
      "           0       0.76      0.72      0.74       103\n",
      "           1       0.73      0.77      0.75       102\n",
      "\n",
      "    accuracy                           0.75       205\n",
      "   macro avg       0.75      0.75      0.75       205\n",
      "weighted avg       0.75      0.75      0.75       205\n",
      "\n"
     ]
    }
   ],
   "source": [
    "print(\"KNN Classifier Model Performance: \\n\")\n",
    "\n",
    "print(\"------------------Training Performance:----------------\")\n",
    "print(\"Accuracy        :\",accuracy_score(y_train,y_train_predict_knn))\n",
    "print(\"Precision       :\",precision_score(y_train,y_train_predict_knn))\n",
    "print(\"Recall          :\",recall_score(y_train,y_train_predict_knn))\n",
    "print(\"f1 Score        :\",f1_score(y_train,y_train_predict_knn))\n",
    "print(\"ROC AUC Score   :\",roc_auc_score(y_train,y_train_predict_knn))\n",
    "print(\"Confusion Matrix:\\n\",confusion_matrix(y_train,y_train_predict_knn))\n",
    "print(\"\\nClassification Matrix :\\n\\n\",classification_report(y_train,y_train_predict_knn))\n",
    "\n",
    "print(\"\\n-----------------Testing Performance:-----------------\")\n",
    "print(\"Accuracy        :\",accuracy_score(y_test,y_test_predict_knn))\n",
    "print(\"Precision       :\",precision_score(y_test,y_test_predict_knn))\n",
    "print(\"Recall          :\",recall_score(y_test,y_test_predict_knn))\n",
    "print(\"f1 Score        :\",f1_score(y_test,y_test_predict_knn))\n",
    "print(\"ROC AUC Score   :\",roc_auc_score(y_test,y_test_predict_knn))\n",
    "print(\"Confusion Matrix:\\n\",confusion_matrix(y_test,y_test_predict_knn))\n",
    "print(\"\\nClassification Matrix :\\n\\n\",classification_report(y_test,y_test_predict_knn))"
   ]
  },
  {
   "cell_type": "markdown",
   "id": "5d9f9114",
   "metadata": {},
   "source": [
    "### • For Naive Bayes Classifier"
   ]
  },
  {
   "cell_type": "code",
   "execution_count": 28,
   "id": "0643b693",
   "metadata": {},
   "outputs": [
    {
     "name": "stdout",
     "output_type": "stream",
     "text": [
      "Gaussian Naive Bayes Classifier Model Performance: \n",
      "\n",
      "------------------Training Performance:----------------\n",
      "Accuracy        : 0.8329268292682926\n",
      "Precision       : 0.8153846153846154\n",
      "Recall          : 0.875\n",
      "f1 Score        : 0.8441410693970421\n",
      "ROC AUC Score   : 0.8314393939393939\n",
      "Confusion Matrix:\n",
      " [[312  84]\n",
      " [ 53 371]]\n",
      "\n",
      "Classification Matrix :\n",
      "\n",
      "               precision    recall  f1-score   support\n",
      "\n",
      "           0       0.85      0.79      0.82       396\n",
      "           1       0.82      0.88      0.84       424\n",
      "\n",
      "    accuracy                           0.83       820\n",
      "   macro avg       0.84      0.83      0.83       820\n",
      "weighted avg       0.83      0.83      0.83       820\n",
      "\n",
      "-----------------Testing Performance:-----------------\n",
      "Accuracy        : 0.8195121951219512\n",
      "Precision       : 0.7927927927927928\n",
      "Recall          : 0.8627450980392157\n",
      "f1 Score        : 0.8262910798122066\n",
      "ROC AUC Score   : 0.8197220635827146\n",
      "Confusion Matrix:\n",
      " [[80 23]\n",
      " [14 88]]\n",
      "\n",
      "Classification Matrix :\n",
      "\n",
      "               precision    recall  f1-score   support\n",
      "\n",
      "           0       0.85      0.78      0.81       103\n",
      "           1       0.79      0.86      0.83       102\n",
      "\n",
      "    accuracy                           0.82       205\n",
      "   macro avg       0.82      0.82      0.82       205\n",
      "weighted avg       0.82      0.82      0.82       205\n",
      "\n"
     ]
    }
   ],
   "source": [
    "print(\"Gaussian Naive Bayes Classifier Model Performance: \\n\")\n",
    "\n",
    "print(\"------------------Training Performance:----------------\")\n",
    "print(\"Accuracy        :\",accuracy_score(y_train,y_train_predict_nbc))\n",
    "print(\"Precision       :\",precision_score(y_train,y_train_predict_nbc))\n",
    "print(\"Recall          :\",recall_score(y_train,y_train_predict_nbc))\n",
    "print(\"f1 Score        :\",f1_score(y_train,y_train_predict_nbc))\n",
    "print(\"ROC AUC Score   :\",roc_auc_score(y_train,y_train_predict_nbc))\n",
    "print(\"Confusion Matrix:\\n\",confusion_matrix(y_train,y_train_predict_nbc))\n",
    "print(\"\\nClassification Matrix :\\n\\n\",classification_report(y_train,y_train_predict_nbc))\n",
    "\n",
    "print(\"-----------------Testing Performance:-----------------\")\n",
    "print(\"Accuracy        :\",accuracy_score(y_test,y_test_predict_nbc))\n",
    "print(\"Precision       :\",precision_score(y_test,y_test_predict_nbc))\n",
    "print(\"Recall          :\",recall_score(y_test,y_test_predict_nbc))\n",
    "print(\"f1 Score        :\",f1_score(y_test,y_test_predict_nbc))\n",
    "print(\"ROC AUC Score   :\",roc_auc_score(y_test,y_test_predict_nbc))\n",
    "print(\"Confusion Matrix:\\n\",confusion_matrix(y_test,y_test_predict_nbc))\n",
    "print(\"\\nClassification Matrix :\\n\\n\",classification_report(y_test,y_test_predict_nbc))"
   ]
  },
  {
   "cell_type": "markdown",
   "id": "92984ea9",
   "metadata": {},
   "source": [
    "### • For Decison Tree Classifier"
   ]
  },
  {
   "cell_type": "code",
   "execution_count": 29,
   "id": "5fb7c7fb",
   "metadata": {},
   "outputs": [
    {
     "name": "stdout",
     "output_type": "stream",
     "text": [
      "Decision Tree Classifier Model Performance: \n",
      "\n",
      "------------------Training Performance:----------------\n",
      "Accuracy        : 0.48048780487804876\n",
      "Precision       : 0.4444444444444444\n",
      "Recall          : 0.018867924528301886\n",
      "f1 Score        : 0.03619909502262443\n",
      "ROC AUC Score   : 0.4968076996378883\n",
      "Confusion Matrix:\n",
      " [[386  10]\n",
      " [416   8]]\n",
      "\n",
      "Classification Matrix :\n",
      "\n",
      "               precision    recall  f1-score   support\n",
      "\n",
      "           0       0.48      0.97      0.64       396\n",
      "           1       0.44      0.02      0.04       424\n",
      "\n",
      "    accuracy                           0.48       820\n",
      "   macro avg       0.46      0.50      0.34       820\n",
      "weighted avg       0.46      0.48      0.33       820\n",
      "\n",
      "-----------------Testing Performance:-----------------\n",
      "Accuracy        : 0.9219512195121952\n",
      "Precision       : 0.9134615384615384\n",
      "Recall          : 0.9313725490196079\n",
      "f1 Score        : 0.9223300970873786\n",
      "ROC AUC Score   : 0.9219969541214545\n",
      "Confusion Matrix:\n",
      " [[94  9]\n",
      " [ 7 95]]\n",
      "\n",
      "Classification Matrix :\n",
      "               precision    recall  f1-score   support\n",
      "\n",
      "           0       0.93      0.91      0.92       103\n",
      "           1       0.91      0.93      0.92       102\n",
      "\n",
      "    accuracy                           0.92       205\n",
      "   macro avg       0.92      0.92      0.92       205\n",
      "weighted avg       0.92      0.92      0.92       205\n",
      "\n"
     ]
    }
   ],
   "source": [
    "print(\"Decision Tree Classifier Model Performance: \\n\")\n",
    "\n",
    "print(\"------------------Training Performance:----------------\")\n",
    "print(\"Accuracy        :\",accuracy_score(y_train,y_train_predict_dtc))\n",
    "print(\"Precision       :\",precision_score(y_train,y_train_predict_dtc))\n",
    "print(\"Recall          :\",recall_score(y_train,y_train_predict_dtc))\n",
    "print(\"f1 Score        :\",f1_score(y_train,y_train_predict_dtc))\n",
    "print(\"ROC AUC Score   :\",roc_auc_score(y_train,y_train_predict_dtc))\n",
    "print(\"Confusion Matrix:\\n\",confusion_matrix(y_train,y_train_predict_dtc))\n",
    "print(\"\\nClassification Matrix :\\n\\n\",classification_report(y_train,y_train_predict_dtc))\n",
    "\n",
    "print(\"-----------------Testing Performance:-----------------\")\n",
    "print(\"Accuracy        :\",accuracy_score(y_test,y_test_predict_dtc))\n",
    "print(\"Precision       :\",precision_score(y_test,y_test_predict_dtc))\n",
    "print(\"Recall          :\",recall_score(y_test,y_test_predict_dtc))\n",
    "print(\"f1 Score        :\",f1_score(y_test,y_test_predict_dtc))\n",
    "print(\"ROC AUC Score   :\",roc_auc_score(y_test,y_test_predict_dtc))\n",
    "print(\"Confusion Matrix:\\n\",confusion_matrix(y_test,y_test_predict_dtc))\n",
    "print(\"\\nClassification Matrix :\\n\",classification_report(y_test,y_test_predict_dtc))"
   ]
  },
  {
   "cell_type": "code",
   "execution_count": 30,
   "id": "6a05f6ba",
   "metadata": {},
   "outputs": [
    {
     "name": "stdout",
     "output_type": "stream",
     "text": [
      "Accuracy on Training set:\n"
     ]
    },
    {
     "data": {
      "text/html": [
       "<div>\n",
       "<style scoped>\n",
       "    .dataframe tbody tr th:only-of-type {\n",
       "        vertical-align: middle;\n",
       "    }\n",
       "\n",
       "    .dataframe tbody tr th {\n",
       "        vertical-align: top;\n",
       "    }\n",
       "\n",
       "    .dataframe thead th {\n",
       "        text-align: right;\n",
       "    }\n",
       "</style>\n",
       "<table border=\"1\" class=\"dataframe\">\n",
       "  <thead>\n",
       "    <tr style=\"text-align: right;\">\n",
       "      <th></th>\n",
       "      <th>Model</th>\n",
       "      <th>Accuracy</th>\n",
       "    </tr>\n",
       "  </thead>\n",
       "  <tbody>\n",
       "    <tr>\n",
       "      <th>0</th>\n",
       "      <td>KNN Classifier</td>\n",
       "      <td>91.951220</td>\n",
       "    </tr>\n",
       "    <tr>\n",
       "      <th>1</th>\n",
       "      <td>Naive Bayes Classifier</td>\n",
       "      <td>83.292683</td>\n",
       "    </tr>\n",
       "    <tr>\n",
       "      <th>2</th>\n",
       "      <td>Decision Tree Classifier</td>\n",
       "      <td>48.048780</td>\n",
       "    </tr>\n",
       "  </tbody>\n",
       "</table>\n",
       "</div>"
      ],
      "text/plain": [
       "                      Model   Accuracy\n",
       "0            KNN Classifier  91.951220\n",
       "1    Naive Bayes Classifier  83.292683\n",
       "2  Decision Tree Classifier  48.048780"
      ]
     },
     "execution_count": 30,
     "metadata": {},
     "output_type": "execute_result"
    }
   ],
   "source": [
    "print(\"Accuracy on Training set:\")\n",
    "output_train = pd.DataFrame({'Model':['KNN Classifier','Naive Bayes Classifier','Decision Tree Classifier'], 'Accuracy':[accuracy_score(y_train_predict_knn,y_train)*100, accuracy_score(y_train_predict_nbc,y_train)*100, accuracy_score(y_train_predict_dtc,y_train)*100]})\n",
    "output_train"
   ]
  },
  {
   "cell_type": "code",
   "execution_count": 31,
   "id": "fa2d27ec",
   "metadata": {},
   "outputs": [
    {
     "name": "stdout",
     "output_type": "stream",
     "text": [
      "Accuracy on Testing set:\n"
     ]
    },
    {
     "data": {
      "text/html": [
       "<div>\n",
       "<style scoped>\n",
       "    .dataframe tbody tr th:only-of-type {\n",
       "        vertical-align: middle;\n",
       "    }\n",
       "\n",
       "    .dataframe tbody tr th {\n",
       "        vertical-align: top;\n",
       "    }\n",
       "\n",
       "    .dataframe thead th {\n",
       "        text-align: right;\n",
       "    }\n",
       "</style>\n",
       "<table border=\"1\" class=\"dataframe\">\n",
       "  <thead>\n",
       "    <tr style=\"text-align: right;\">\n",
       "      <th></th>\n",
       "      <th>Model</th>\n",
       "      <th>Accuracy</th>\n",
       "    </tr>\n",
       "  </thead>\n",
       "  <tbody>\n",
       "    <tr>\n",
       "      <th>0</th>\n",
       "      <td>KNN Classifier</td>\n",
       "      <td>74.634146</td>\n",
       "    </tr>\n",
       "    <tr>\n",
       "      <th>1</th>\n",
       "      <td>Naive Bayes Classifier</td>\n",
       "      <td>81.951220</td>\n",
       "    </tr>\n",
       "    <tr>\n",
       "      <th>2</th>\n",
       "      <td>Decision Tree Classifier</td>\n",
       "      <td>92.195122</td>\n",
       "    </tr>\n",
       "  </tbody>\n",
       "</table>\n",
       "</div>"
      ],
      "text/plain": [
       "                      Model   Accuracy\n",
       "0            KNN Classifier  74.634146\n",
       "1    Naive Bayes Classifier  81.951220\n",
       "2  Decision Tree Classifier  92.195122"
      ]
     },
     "execution_count": 31,
     "metadata": {},
     "output_type": "execute_result"
    }
   ],
   "source": [
    "print(\"Accuracy on Testing set:\")\n",
    "output_test = pd.DataFrame({'Model':['KNN Classifier','Naive Bayes Classifier','Decision Tree Classifier'], 'Accuracy':[accuracy_score(y_test_predict_knn,y_test)*100, accuracy_score(y_test_predict_nbc,y_test)*100, accuracy_score(y_test_predict_dtc,y_test)*100]})\n",
    "output_test"
   ]
  },
  {
   "cell_type": "markdown",
   "id": "8f997b28",
   "metadata": {},
   "source": [
    "# 5. Cross Validation and Overfitting Check"
   ]
  },
  {
   "cell_type": "code",
   "execution_count": 32,
   "id": "75077045",
   "metadata": {},
   "outputs": [],
   "source": [
    "from sklearn.model_selection import cross_val_score, KFold\n",
    "cvs = cross_val_score\n",
    "k_folds = KFold(n_splits=10, shuffle=True, random_state=42)"
   ]
  },
  {
   "cell_type": "markdown",
   "id": "6654eefa",
   "metadata": {},
   "source": [
    "### For KNN Classifier"
   ]
  },
  {
   "cell_type": "code",
   "execution_count": 33,
   "id": "1859f347",
   "metadata": {},
   "outputs": [
    {
     "name": "stdout",
     "output_type": "stream",
     "text": [
      "KNN Classifier Model is Overfitted!\n",
      "Training score: 0.9195121951219513\n",
      "Testing score: 0.7463414634146341\n"
     ]
    }
   ],
   "source": [
    "# Check the training and validation scores\n",
    "train_score = knn.score(x_train, y_train)\n",
    "test_score = knn.score(x_test, y_test)\n",
    "if train_score > test_score:\n",
    "    print('KNN Classifier Model is Overfitted!')\n",
    "    print('Training score:', train_score)\n",
    "    print('Testing score:', test_score)\n",
    "else:\n",
    "    print('KNN Classifier Model is not Overfitted.')\n",
    "    print('Training score:', train_score)\n",
    "    print('Testing score:', test_score)"
   ]
  },
  {
   "cell_type": "code",
   "execution_count": 34,
   "id": "155770e7",
   "metadata": {},
   "outputs": [
    {
     "data": {
      "text/plain": [
       "array([0.61904762, 0.66666667, 0.71428571, 0.85714286, 0.85714286,\n",
       "       0.6       , 0.8       , 0.75      , 0.85      , 0.85      ])"
      ]
     },
     "execution_count": 34,
     "metadata": {},
     "output_type": "execute_result"
    }
   ],
   "source": [
    "score_knn = cvs(knn, x_test, y_test, cv=10)\n",
    "score_knn"
   ]
  },
  {
   "cell_type": "code",
   "execution_count": 35,
   "id": "bc162466",
   "metadata": {},
   "outputs": [
    {
     "name": "stdout",
     "output_type": "stream",
     "text": [
      "\n",
      "Training Accuracy Scores for Each Fold:\n",
      "Fold 1: 0.972885032537961\n",
      "Fold 2: 0.9446854663774403\n",
      "Fold 3: 0.9501084598698482\n",
      "Fold 4: 0.9577006507592191\n",
      "Fold 5: 0.9631236442516269\n",
      "Fold 6: 0.9479956663055255\n",
      "Fold 7: 0.9490790899241603\n",
      "Fold 8: 0.9501625135427952\n",
      "Fold 9: 0.9555796316359697\n",
      "Fold 10: 0.9534127843986999\n",
      "\n",
      "Testing Accuracy Scores for Each Fold:\n",
      "Fold 1: 0.7766990291262136\n",
      "Fold 2: 0.7087378640776699\n",
      "Fold 3: 0.7766990291262136\n",
      "Fold 4: 0.7961165048543689\n",
      "Fold 5: 0.8058252427184466\n",
      "Fold 6: 0.7549019607843137\n",
      "Fold 7: 0.696078431372549\n",
      "Fold 8: 0.7450980392156863\n",
      "Fold 9: 0.7254901960784313\n",
      "Fold 10: 0.6862745098039216\n",
      "\n",
      "Average Accuracy Training Score: 0.9544732939603247\n",
      "\n",
      "Average Accuracy Testing Score: 0.7471920807157815\n"
     ]
    }
   ],
   "source": [
    "from sklearn import metrics\n",
    "k_folds = KFold(n_splits=10, shuffle=True, random_state=42)\n",
    "\n",
    "# Initialize a list to store the accuracy scores\n",
    "test_score = []\n",
    "train_score = []\n",
    "\n",
    "# Perform cross-validation\n",
    "for train_index, test_index in k_folds.split(x):\n",
    "    x_train, x_test = x.iloc[train_index], x.iloc[test_index]\n",
    "    y_train, y_test = y.iloc[train_index], y.iloc[test_index]\n",
    "    \n",
    "    # Fit the model on the training data\n",
    "    knn.fit(x_train, y_train)\n",
    "    \n",
    "    # Make predictions on the train and test data\n",
    "    y_pred_test = knn.predict(x_test)\n",
    "    y_pred_train = knn.predict(x_train)\n",
    "    \n",
    "    # Calculate the accuracy score for this fold\n",
    "    accuracy_test = metrics.accuracy_score(y_pred_test,y_test)\n",
    "    accuracy_train = metrics.accuracy_score(y_pred_train,y_train)\n",
    "    \n",
    "    # Store the accuracy score\n",
    "    test_score.append(accuracy_test)\n",
    "    train_score.append(accuracy_train)\n",
    "\n",
    "# Print the accuracy scores for each fold\n",
    "print(\"\\nTraining Accuracy Scores for Each Fold:\")\n",
    "for fold, score in enumerate(train_score):\n",
    "    print(f\"Fold {fold+1}: {score}\")\n",
    "\n",
    "print(\"\\nTesting Accuracy Scores for Each Fold:\")\n",
    "for fold, score in enumerate(test_score):\n",
    "    print(f\"Fold {fold+1}: {score}\")\n",
    "    \n",
    "# Calculate and print the average accuracy score\n",
    "average_accuracy_train = sum(train_score) / len(train_score)\n",
    "print(\"\\nAverage Accuracy Training Score:\", average_accuracy_train)\n",
    "\n",
    "average_accuracy_test = sum(test_score) / len(test_score)\n",
    "print(\"\\nAverage Accuracy Testing Score:\", average_accuracy_test)"
   ]
  },
  {
   "cell_type": "markdown",
   "id": "47a9cc55",
   "metadata": {},
   "source": [
    "### For Naive Bayes Classifier"
   ]
  },
  {
   "cell_type": "code",
   "execution_count": 36,
   "id": "02abe5cd",
   "metadata": {},
   "outputs": [
    {
     "name": "stdout",
     "output_type": "stream",
     "text": [
      "Naive Bayes Classifier Model is Overfitted!\n",
      "Training score: 0.8342361863488624\n",
      "Testing score: 0.7941176470588235\n"
     ]
    }
   ],
   "source": [
    "# Check the training and validation scores\n",
    "train_score = nbc.score(x_train, y_train)\n",
    "test_score = nbc.score(x_test, y_test)\n",
    "if train_score > test_score:\n",
    "    print('Naive Bayes Classifier Model is Overfitted!')\n",
    "    print('Training score:', train_score)\n",
    "    print('Testing score:', test_score)\n",
    "else:\n",
    "    print('Naive Bayes Classifier Model is not Overfitted.')\n",
    "    print('Training score:', train_score)\n",
    "    print('Testing score:', test_score)"
   ]
  },
  {
   "cell_type": "code",
   "execution_count": 37,
   "id": "fa36b979",
   "metadata": {},
   "outputs": [
    {
     "data": {
      "text/plain": [
       "array([0.81818182, 0.81818182, 0.7       , 0.9       , 0.8       ,\n",
       "       0.9       , 0.8       , 0.7       , 0.7       , 0.4       ])"
      ]
     },
     "execution_count": 37,
     "metadata": {},
     "output_type": "execute_result"
    }
   ],
   "source": [
    "score_nbc = cvs(nbc, x_test, y_test, cv=10)\n",
    "score_nbc"
   ]
  },
  {
   "cell_type": "code",
   "execution_count": 38,
   "id": "c5971995",
   "metadata": {},
   "outputs": [
    {
     "name": "stdout",
     "output_type": "stream",
     "text": [
      "\n",
      "Training Accuracy Scores for Each Fold:\n",
      "Fold 1: 0.834056399132321\n",
      "Fold 2: 0.8286334056399133\n",
      "Fold 3: 0.824295010845987\n",
      "Fold 4: 0.8275488069414316\n",
      "Fold 5: 0.8308026030368764\n",
      "Fold 6: 0.8342361863488624\n",
      "Fold 7: 0.8277356446370531\n",
      "Fold 8: 0.8212351029252438\n",
      "Fold 9: 0.8244853737811484\n",
      "Fold 10: 0.8331527627302275\n",
      "\n",
      "Testing Accuracy Scores for Each Fold:\n",
      "Fold 1: 0.7961165048543689\n",
      "Fold 2: 0.7961165048543689\n",
      "Fold 3: 0.8543689320388349\n",
      "Fold 4: 0.8543689320388349\n",
      "Fold 5: 0.7961165048543689\n",
      "Fold 6: 0.7941176470588235\n",
      "Fold 7: 0.8529411764705882\n",
      "Fold 8: 0.8823529411764706\n",
      "Fold 9: 0.8529411764705882\n",
      "Fold 10: 0.7745098039215687\n",
      "\n",
      "Average Accuracy Training Score: 0.8286181296019064\n",
      "\n",
      "Average Accuracy Testing Score: 0.8253950123738815\n"
     ]
    }
   ],
   "source": [
    "from sklearn import metrics\n",
    "k_folds = KFold(n_splits=10, shuffle=True, random_state=42)\n",
    "\n",
    "# Initialize a list to store the accuracy scores\n",
    "test_score = []\n",
    "train_score = []\n",
    "\n",
    "# Perform cross-validation\n",
    "for train_index, test_index in k_folds.split(x):\n",
    "    x_train, x_test = x.iloc[train_index], x.iloc[test_index]\n",
    "    y_train, y_test = y.iloc[train_index], y.iloc[test_index]\n",
    "    \n",
    "    # Fit the model on the training data\n",
    "    nbc.fit(x_train, y_train)\n",
    "    \n",
    "    # Make predictions on the train and test data\n",
    "    y_pred_test = nbc.predict(x_test)\n",
    "    y_pred_train = nbc.predict(x_train)\n",
    "    \n",
    "    # Calculate the accuracy score for this fold\n",
    "    accuracy_test = metrics.accuracy_score(y_pred_test,y_test)\n",
    "    accuracy_train = metrics.accuracy_score(y_pred_train,y_train)\n",
    "    \n",
    "    # Store the accuracy score\n",
    "    test_score.append(accuracy_test)\n",
    "    train_score.append(accuracy_train)\n",
    "\n",
    "# Print the accuracy scores for each fold\n",
    "print(\"\\nTraining Accuracy Scores for Each Fold:\")\n",
    "for fold, score in enumerate(train_score):\n",
    "    print(f\"Fold {fold+1}: {score}\")\n",
    "\n",
    "print(\"\\nTesting Accuracy Scores for Each Fold:\")\n",
    "for fold, score in enumerate(test_score):\n",
    "    print(f\"Fold {fold+1}: {score}\")\n",
    "    \n",
    "# Calculate and print the average accuracy score\n",
    "average_accuracy_train = sum(train_score) / len(train_score)\n",
    "print(\"\\nAverage Accuracy Training Score:\", average_accuracy_train)\n",
    "\n",
    "average_accuracy_test = sum(test_score) / len(test_score)\n",
    "print(\"\\nAverage Accuracy Testing Score:\", average_accuracy_test)"
   ]
  },
  {
   "cell_type": "markdown",
   "id": "fc5c1cb9",
   "metadata": {},
   "source": [
    "### For Decision Tree Classifier"
   ]
  },
  {
   "cell_type": "code",
   "execution_count": 39,
   "id": "f1983c6c",
   "metadata": {},
   "outputs": [
    {
     "name": "stdout",
     "output_type": "stream",
     "text": [
      "Decision Tree Classifier Model is Overfitted!\n",
      "Training score: 0.48429035752979416\n",
      "Testing score: 0.4803921568627451\n"
     ]
    }
   ],
   "source": [
    "# Check the training and validation scores\n",
    "train_score = dtc.score(x_train, y_train)\n",
    "test_score = dtc.score(x_test, y_test)\n",
    "if train_score > test_score:\n",
    "    print('Decision Tree Classifier Model is Overfitted!')\n",
    "    print('Training score:', train_score)\n",
    "    print('Testing score:', test_score)\n",
    "else:\n",
    "    print('Decision Tree Classifier Model is not Overfitted.')\n",
    "    print('Training score:', train_score)\n",
    "    print('Testing score:', test_score)"
   ]
  },
  {
   "cell_type": "code",
   "execution_count": 40,
   "id": "7509bcf2",
   "metadata": {},
   "outputs": [
    {
     "data": {
      "text/plain": [
       "array([0.81818182, 0.63636364, 1.        , 0.7       , 0.9       ,\n",
       "       0.9       , 1.        , 0.7       , 0.9       , 0.6       ])"
      ]
     },
     "execution_count": 40,
     "metadata": {},
     "output_type": "execute_result"
    }
   ],
   "source": [
    "score_dtc = cvs(dtc, x_test, y_test, cv=10)\n",
    "score_dtc"
   ]
  },
  {
   "cell_type": "code",
   "execution_count": 41,
   "id": "5f61c0b9",
   "metadata": {},
   "outputs": [
    {
     "name": "stdout",
     "output_type": "stream",
     "text": [
      "\n",
      "Training Accuracy Scores for Each Fold:\n",
      "Fold 1: 0.96529284164859\n",
      "Fold 2: 0.9587852494577006\n",
      "Fold 3: 0.9685466377440347\n",
      "Fold 4: 0.9674620390455532\n",
      "Fold 5: 0.9642082429501084\n",
      "Fold 6: 0.9631635969664138\n",
      "Fold 7: 0.9544962080173348\n",
      "Fold 8: 0.9609967497291441\n",
      "Fold 9: 0.962080173347779\n",
      "Fold 10: 0.9729144095341279\n",
      "\n",
      "Testing Accuracy Scores for Each Fold:\n",
      "Fold 1: 0.9223300970873787\n",
      "Fold 2: 0.8932038834951457\n",
      "Fold 3: 0.941747572815534\n",
      "Fold 4: 0.9611650485436893\n",
      "Fold 5: 0.9611650485436893\n",
      "Fold 6: 0.9705882352941176\n",
      "Fold 7: 0.9705882352941176\n",
      "Fold 8: 0.9607843137254902\n",
      "Fold 9: 0.9509803921568627\n",
      "Fold 10: 0.9117647058823529\n",
      "\n",
      "Average Accuracy Training Score: 0.9637946148440788\n",
      "\n",
      "Average Accuracy Testing Score: 0.944431753283838\n"
     ]
    }
   ],
   "source": [
    "from sklearn import metrics\n",
    "k_folds = KFold(n_splits=10, shuffle=True, random_state=42)\n",
    "\n",
    "# Initialize a list to store the accuracy scores\n",
    "test_score = []\n",
    "train_score = []\n",
    "\n",
    "# Perform cross-validation\n",
    "for train_index, test_index in k_folds.split(x):\n",
    "    x_train, x_test = x.iloc[train_index], x.iloc[test_index]\n",
    "    y_train, y_test = y.iloc[train_index], y.iloc[test_index]\n",
    "    \n",
    "    # Fit the model on the training data\n",
    "    dtc.fit(x_train, y_train)\n",
    "    \n",
    "    # Make predictions on the train and test data\n",
    "    y_pred_test = dtc.predict(x_test)\n",
    "    y_pred_train = dtc.predict(x_train)\n",
    "    \n",
    "    # Calculate the accuracy score for this fold\n",
    "    accuracy_test = metrics.accuracy_score(y_pred_test,y_test)\n",
    "    accuracy_train = metrics.accuracy_score(y_pred_train,y_train)\n",
    "    \n",
    "    # Store the accuracy score\n",
    "    test_score.append(accuracy_test)\n",
    "    train_score.append(accuracy_train)\n",
    "\n",
    "# Print the accuracy scores for each fold\n",
    "print(\"\\nTraining Accuracy Scores for Each Fold:\")\n",
    "for fold, score in enumerate(train_score):\n",
    "    print(f\"Fold {fold+1}: {score}\")\n",
    "\n",
    "print(\"\\nTesting Accuracy Scores for Each Fold:\")\n",
    "for fold, score in enumerate(test_score):\n",
    "    print(f\"Fold {fold+1}: {score}\")\n",
    "    \n",
    "# Calculate and print the average accuracy score\n",
    "average_accuracy_train = sum(train_score) / len(train_score)\n",
    "print(\"\\nAverage Accuracy Training Score:\", average_accuracy_train)\n",
    "\n",
    "average_accuracy_test = sum(test_score) / len(test_score)\n",
    "print(\"\\nAverage Accuracy Testing Score:\", average_accuracy_test)"
   ]
  }
 ],
 "metadata": {
  "kernelspec": {
   "display_name": "Python 3 (ipykernel)",
   "language": "python",
   "name": "python3"
  },
  "language_info": {
   "codemirror_mode": {
    "name": "ipython",
    "version": 3
   },
   "file_extension": ".py",
   "mimetype": "text/x-python",
   "name": "python",
   "nbconvert_exporter": "python",
   "pygments_lexer": "ipython3",
   "version": "3.9.7"
  }
 },
 "nbformat": 4,
 "nbformat_minor": 5
}
